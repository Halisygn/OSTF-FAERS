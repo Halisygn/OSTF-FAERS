{
 "cells": [
  {
   "cell_type": "code",
   "execution_count": 1,
   "metadata": {},
   "outputs": [
    {
     "name": "stdout",
     "output_type": "stream",
     "text": [
      "The pandas version is 1.2.0.\n",
      "The scikit-learn version is 0.24.0.\n"
     ]
    }
   ],
   "source": [
    "#import libraries\n",
    "\n",
    "import numpy as np\n",
    "import pandas as pd\n",
    "print('The pandas version is {}.'.format(pd.__version__))\n",
    "from pandas import read_csv\n",
    "from random import random\n",
    "\n",
    "import sklearn\n",
    "print('The scikit-learn version is {}.'.format(sklearn.__version__))\n",
    "from sklearn.model_selection import train_test_split, cross_val_score, GridSearchCV\n",
    "from sklearn.preprocessing import StandardScaler, LabelBinarizer, MultiLabelBinarizer\n",
    "from sklearn.linear_model import Lasso, Ridge\n",
    "from sklearn.metrics import mean_squared_error, make_scorer, accuracy_score, confusion_matrix\n",
    "from sklearn.neighbors import KNeighborsClassifier\n",
    "from sklearn.ensemble import GradientBoostingClassifier, RandomForestClassifier\n",
    "from sklearn.tree import DecisionTreeClassifier\n",
    "from sklearn.neural_network import MLPClassifier\n",
    "from sklearn.svm import LinearSVC\n",
    "#from sklearn.inspection import permutation_importance, partial_dependence - ONLY AVAIL IN LATER VER\n",
    "import matplotlib.pyplot as plt\n",
    "from matplotlib.ticker import PercentFormatter\n",
    "from mpl_toolkits.mplot3d import Axes3D\n",
    "import seaborn as sns\n",
    "sns.set()\n",
    "%matplotlib inline\n",
    "\n",
    "import warnings\n",
    "warnings.filterwarnings('ignore')"
   ]
  },
  {
   "cell_type": "markdown",
   "metadata": {},
   "source": [
    "## Methodology\n",
    "\n",
    "### Objective\n",
    "**Use FAERS data on drug safety to identify possible risk factors associated with patient mortality and other serious adverse events associated with approved used of a drug or drug class** \n",
    "\n",
    "### Data\n",
    "**_Outcome table_** \n",
    "1. Start with outcome_c table to define unit of analysis (primaryid)\n",
    "2. Reshape outcome_c to one row per primaryid\n",
    "3. Outcomes grouped into 3 categories: a. death, b. serious, c. other  \n",
    "4. Multiclass model target format: each outcome grp coded into separate columns\n",
    "\n",
    "**_Demo table_**\n",
    "1. Drop fields not used in model input to reduce table size (preferably before import to notebook)\n",
    "2. Check if demo table one row per primaryid (if NOT then need to reshape / clean - TBD)\n",
    "\n",
    "**_Model input and targets_**\n",
    "1. Merge clean demo table with reshaped multilabel outcome targets (rows: primaryid, cols: outcome grps)\n",
    "2. Inspect merged file to check for anomalies (outliers, bad data, ...)\n",
    "\n",
    "### Model\n",
    "**_Multilabel Classifier_**\n",
    "1. Since each primaryid has multiple outcomes coded in the outcome_c table, the ML model should predict the probability of each possible outcome.\n",
    "2. In scikit-learn lib most/all classifiers can predict multilabel outcomes by coding target outputs into array\n",
    "\n",
    "### Results\n",
    "TBD\n",
    "\n",
    "### Insights\n",
    "TBD"
   ]
  },
  {
   "cell_type": "markdown",
   "metadata": {},
   "source": [
    "## Data Pipeline: Outcome Table "
   ]
  },
  {
   "cell_type": "code",
   "execution_count": 2,
   "metadata": {},
   "outputs": [
    {
     "name": "stdout",
     "output_type": "stream",
     "text": [
      "   primaryid outc_cod\n",
      "0  100046942       OT\n",
      "1  100048206       HO\n",
      "2  100048206       OT\n",
      "3  100048622       OT\n",
      "4  100051352       OT \n",
      "\n",
      "Total number of rows: 335,470\n",
      "\n",
      "Unique number of primaryids: 260,715\n"
     ]
    }
   ],
   "source": [
    "# read outcome_c.csv & drop unnecessary fields\n",
    "infile = '../input/Outc20Q1.csv'\n",
    "cols_in = ['primaryid','outc_cod']\n",
    "df = pd.read_csv(infile, usecols=cols_in)\n",
    "print(df.head(),'\\n')\n",
    "print(f'Total number of rows: {len(df):,}\\n')\n",
    "print(f'Unique number of primaryids: {df.primaryid.nunique():,}')"
   ]
  },
  {
   "cell_type": "code",
   "execution_count": 3,
   "metadata": {},
   "outputs": [
    {
     "name": "stdout",
     "output_type": "stream",
     "text": [
      "Distribution of Adverse Event Outcomes in FAERS 2020 Q1\n",
      "OT:  168,410\n",
      "HO:  105,542\n",
      "DE:   40,221\n",
      "LT:   12,416\n",
      "DS:    6,925\n",
      "CA:    1,598\n",
      "RI:      358\n",
      "------------------------------------------------------------------------\n",
      "Most common outcome is OT with 168,410 in 2020Q1\n"
     ]
    }
   ],
   "source": [
    "# distribution of outcomes\n",
    "from collections import Counter\n",
    "o_cnt = Counter(df['outc_cod'])\n",
    "print('Distribution of Adverse Event Outcomes in FAERS 2020 Q1')\n",
    "for k, v in o_cnt.items():\n",
    "    print(f'{k}: {v:>8,}')\n",
    "\n",
    "print(72*'-')\n",
    "print(f'Most common outcome is {o_cnt.most_common(1)[0][0]} with {o_cnt.most_common(1)[0][1]:,} in 2020Q1')"
   ]
  },
  {
   "cell_type": "code",
   "execution_count": 5,
   "metadata": {},
   "outputs": [
    {
     "name": "stdout",
     "output_type": "stream",
     "text": [
      "Distribution of AE Outcomes\n",
      "OT    0.502012\n",
      "HO    0.314609\n",
      "DE    0.119894\n",
      "LT    0.037011\n",
      "DS    0.020643\n",
      "CA    0.004763\n",
      "RI    0.001067\n",
      "Name: outc_cod, dtype: float64 \n",
      "\n",
      "AxesSubplot(0.260833,0.125;0.503333x0.755)\n",
      "OT    0.502012\n",
      "HO    0.314609\n",
      "DE    0.119894\n",
      "LT    0.037011\n",
      "DS    0.020643\n",
      "CA    0.004763\n",
      "RI    0.001067\n",
      "Name: outc_cod, dtype: float64 \n",
      "\n"
     ]
    },
    {
     "data": {
      "image/png": "[encoded data removed]",
      "text/plain": [
       "<Figure size 432x288 with 1 Axes>"
      ]
     },
     "metadata": {},
     "output_type": "display_data"
    }
   ],
   "source": [
    "# DO NOT GROUP OUTCOMES FOR MULTILABEL - MUST BE 0 (-1) OR 1 FOR EACH CLASS\n",
    "\n",
    "### create outcome groups: death:'DE', serious: ['LT','HO','DS','CA',RI], other: 'OT'\n",
    "\n",
    "# - USE TO CREATE OUTCOME GROUPS: key(original code) : value(new code)\n",
    "# map grp dict to outc_cod \n",
    "\n",
    "'''\n",
    "outc_to_grp = {'DE':'death',\n",
    "               'LT':'serious',\n",
    "               'HO':'serious',\n",
    "               'DS':'serious',\n",
    "               'CA':'serious',\n",
    "               'RI':'serious',\n",
    "               'OT':'other'}\n",
    "df['oc_cat'] = df['outc_cod'].map(outc_to_grp)\n",
    "print(df.head(),'\\n')'''\n",
    "\n",
    "print('Distribution of AE Outcomes')\n",
    "print(df['outc_cod'].value_counts()/len(df['outc_cod']),'\\n')\n",
    "print(df['outc_cod'].value_counts().plot(kind='pie'))\n",
    "# outcome grps\n",
    "print(df['outc_cod'].value_counts()/len(df['outc_cod']),'\\n')"
   ]
  },
  {
   "cell_type": "code",
   "execution_count": 3,
   "metadata": {},
   "outputs": [
    {
     "name": "stdout",
     "output_type": "stream",
     "text": [
      "Outcome codes and groups\n",
      "Total number of rows: 335,470\n",
      "Unique number of primaryids: 260,715\n",
      "\n",
      "Index(['primaryid', 'outc_cod__CA', 'outc_cod__DE', 'outc_cod__DS',\n",
      "       'outc_cod__HO', 'outc_cod__LT', 'outc_cod__OT', 'outc_cod__RI'],\n",
      "      dtype='object') \n",
      "\n",
      "   primaryid  outc_cod__CA  outc_cod__DE  outc_cod__DS  outc_cod__HO  \\\n",
      "0  100046942             0             0             0             0   \n",
      "1  100048206             0             0             0             1   \n",
      "2  100048206             0             0             0             0   \n",
      "3  100048622             0             0             0             0   \n",
      "4  100051352             0             0             0             0   \n",
      "\n",
      "   outc_cod__LT  outc_cod__OT  outc_cod__RI  \n",
      "0             0             1             0  \n",
      "1             0             0             0  \n",
      "2             0             1             0  \n",
      "3             0             1             0  \n",
      "4             0             1             0  \n",
      "        primaryid  outc_cod__CA  outc_cod__DE  outc_cod__DS  outc_cod__HO  \\\n",
      "335465   99974543             0             0             0             0   \n",
      "335466   99975132             0             0             0             0   \n",
      "335467   99977523             0             0             0             0   \n",
      "335468   99978615             0             0             0             0   \n",
      "335469   99998112             0             0             0             0   \n",
      "\n",
      "        outc_cod__LT  outc_cod__OT  outc_cod__RI  \n",
      "335465             0             1             0  \n",
      "335466             0             1             0  \n",
      "335467             0             1             0  \n",
      "335468             0             1             0  \n",
      "335469             0             1             0  \n"
     ]
    }
   ],
   "source": [
    "# one-hot encoding of outcome grp\n",
    "\n",
    "# step1: pandas automatic dummy var coding\n",
    "cat_cols = ['outc_cod']  #, 'oc_cat']\n",
    "df1 = pd.get_dummies(df, prefix_sep=\"__\", columns=cat_cols)\n",
    " \n",
    "print('Outcome codes and groups')\n",
    "print(f'Total number of rows: {len(df1):,}')\n",
    "print(f'Unique number of primaryids: {df1.primaryid.nunique():,}\\n')\n",
    "print(df1.columns,'\\n')\n",
    "print(df1.head())\n",
    "print(df1.tail())"
   ]
  },
  {
   "cell_type": "code",
   "execution_count": 4,
   "metadata": {
    "scrolled": false
   },
   "outputs": [
    {
     "name": "stdout",
     "output_type": "stream",
     "text": [
      "Index(['primaryid', 'outc_cod__CA', 'outc_cod__DE', 'outc_cod__DS',\n",
      "       'outc_cod__HO', 'outc_cod__LT', 'outc_cod__OT', 'outc_cod__RI',\n",
      "       'n_outc'],\n",
      "      dtype='object')\n",
      "------------------------------------------------------------------------\n",
      "Outcome codes in Multilabel format\n",
      "Total number of rows: 260,715\n",
      "Unique number of primaryids: 260,715\n",
      "\n",
      "   primaryid  outc_cod__CA  outc_cod__DE  outc_cod__DS  outc_cod__HO  \\\n",
      "0   39651443             0             0             0             0   \n",
      "1   39703652             0             0             0             1   \n",
      "2   39928752             0             0             0             1   \n",
      "3   40142274             0             0             0             0   \n",
      "4   40158544             0             0             0             0   \n",
      "\n",
      "   outc_cod__LT  outc_cod__OT  outc_cod__RI  n_outc  \n",
      "0             0             1             0       1  \n",
      "1             0             1             0       2  \n",
      "2             0             0             0       1  \n",
      "3             0             1             0       1  \n",
      "4             0             1             0       1  \n",
      "              outc_cod__CA  outc_cod__DE  outc_cod__DS  outc_cod__HO  \\\n",
      "outc_cod__CA      1.000000     -0.016262      0.008727     -0.045043   \n",
      "outc_cod__DE     -0.016262      1.000000     -0.050937     -0.122620   \n",
      "outc_cod__DS      0.008727     -0.050937      1.000000     -0.034083   \n",
      "outc_cod__HO     -0.045043     -0.122620     -0.034083      1.000000   \n",
      "outc_cod__LT     -0.006254     -0.004410      0.055467      0.092932   \n",
      "outc_cod__OT      0.001517     -0.258372     -0.060765     -0.476639   \n",
      "outc_cod__RI     -0.002912     -0.014690      0.026727      0.002548   \n",
      "\n",
      "              outc_cod__LT  outc_cod__OT  outc_cod__RI  \n",
      "outc_cod__CA     -0.006254      0.001517     -0.002912  \n",
      "outc_cod__DE     -0.004410     -0.258372     -0.014690  \n",
      "outc_cod__DS      0.055467     -0.060765      0.026727  \n",
      "outc_cod__HO      0.092932     -0.476639      0.002548  \n",
      "outc_cod__LT      1.000000     -0.058607      0.047153  \n",
      "outc_cod__OT     -0.058607      1.000000     -0.031677  \n",
      "outc_cod__RI      0.047153     -0.031677      1.000000  \n",
      "                 count          mean           std         min          25%  \\\n",
      "primaryid     260715.0  1.905476e+08  1.567929e+08  39651443.0  172318487.0   \n",
      "outc_cod__CA  260715.0  6.129298e-03  7.804969e-02         0.0          0.0   \n",
      "outc_cod__DE  260715.0  1.542719e-01  3.612099e-01         0.0          0.0   \n",
      "outc_cod__DS  260715.0  2.656157e-02  1.607985e-01         0.0          0.0   \n",
      "outc_cod__HO  260715.0  4.048175e-01  4.908576e-01         0.0          0.0   \n",
      "outc_cod__LT  260715.0  4.762288e-02  2.129674e-01         0.0          0.0   \n",
      "outc_cod__OT  260715.0  6.459544e-01  4.782240e-01         0.0          0.0   \n",
      "outc_cod__RI  260715.0  1.373147e-03  3.703062e-02         0.0          0.0   \n",
      "n_outc        260715.0  1.286731e+00  5.546336e-01         1.0          1.0   \n",
      "\n",
      "                      50%          75%           max  \n",
      "primaryid     173619571.0  174849461.0  1.741600e+09  \n",
      "outc_cod__CA          0.0          0.0  1.000000e+00  \n",
      "outc_cod__DE          0.0          0.0  1.000000e+00  \n",
      "outc_cod__DS          0.0          0.0  1.000000e+00  \n",
      "outc_cod__HO          0.0          1.0  1.000000e+00  \n",
      "outc_cod__LT          0.0          0.0  1.000000e+00  \n",
      "outc_cod__OT          1.0          1.0  1.000000e+00  \n",
      "outc_cod__RI          0.0          0.0  1.000000e+00  \n",
      "n_outc                1.0          1.0  6.000000e+00   \n",
      "\n"
     ]
    },
    {
     "data": {
      "text/plain": [
       "\"\\ncolor = {'boxes':'DarkGreen', 'whiskers':'DarkOrange', 'medians':'DarkBlue', 'caps':'Gray'}\\nprint(df2[outc_lst].plot.bar())  #color=color, sym='r+'))\""
      ]
     },
     "execution_count": 4,
     "metadata": {},
     "output_type": "execute_result"
    }
   ],
   "source": [
    "# step 2: create multilabel outcomes by primaryid with groupby\n",
    "\n",
    "outc_lst = ['outc_cod__CA','outc_cod__DE','outc_cod__DS','outc_cod__HO','outc_cod__LT',\n",
    "            'outc_cod__OT','outc_cod__RI']\n",
    "#oc_lst = ['oc_cat__death','oc_cat__other','oc_cat__serious']\n",
    "\n",
    "df2 = df1.groupby(['primaryid'])[outc_lst].sum().reset_index()   \n",
    "df2['n_outc'] = df2[outc_lst].sum(axis='columns')  # cnt total outcomes by primaryid\n",
    "print(df2.columns)\n",
    "print('-'*72)\n",
    "print('Outcome codes in Multilabel format')\n",
    "print(f'Total number of rows: {len(df2):,}')\n",
    "print(f'Unique number of primaryids: {df2.primaryid.nunique():,}\\n')\n",
    "print(df2.head())\n",
    "#print(df2.tail())\n",
    "print(df2[outc_lst].corr())\n",
    "print(df2.describe().T,'\\n')\n",
    "\n",
    "# plot distribution of outcome groups\n",
    "'''\n",
    "color = {'boxes':'DarkGreen', 'whiskers':'DarkOrange', 'medians':'DarkBlue', 'caps':'Gray'}\n",
    "print(df2[outc_lst].plot.bar())  #color=color, sym='r+'))'''"
   ]
  },
  {
   "cell_type": "code",
   "execution_count": 9,
   "metadata": {},
   "outputs": [],
   "source": [
    "# check primaryid from outcomes table with many outcomes\n",
    "\n",
    "# print(df2[df2['n_outc'] >= 6])  \n",
    "# checked in both outcomes and demo - multiple primaryids in outcome but only one primaryid in demo\n",
    "# appears to be okay to use"
   ]
  },
  {
   "cell_type": "code",
   "execution_count": 32,
   "metadata": {},
   "outputs": [],
   "source": [
    "# compare primaryids above in outcomes table to same in demo table\n",
    "\n",
    "#pid_lst = [171962202,173902932,174119951,175773511,176085111]\n",
    "#[print(df_demo[df_demo['primaryid'] == p]) for p in pid_lst]  # one row in demo per primaryid - looks ok to join"
   ]
  },
  {
   "cell_type": "code",
   "execution_count": 5,
   "metadata": {},
   "outputs": [],
   "source": [
    "# save multilabel data to csv\n",
    "df2.to_csv('../input/outc_cod-multilabel.csv')"
   ]
  },
  {
   "cell_type": "markdown",
   "metadata": {},
   "source": [
    "## Data Pipeline - Demo Table"
   ]
  },
  {
   "cell_type": "code",
   "execution_count": 8,
   "metadata": {},
   "outputs": [
    {
     "name": "stdout",
     "output_type": "stream",
     "text": [
      "Index(['primaryid', 'caseid', 'caseversion', 'i_f_code', 'event.dt1', 'mfr_dt',\n",
      "       'init_fda_dt', 'fda_dt', 'rept_cod', 'auth_num', 'mfr_num', 'mfr_sndr',\n",
      "       'lit_ref', 'age', 'age_cod', 'age_grp', 'sex', 'e_sub', 'wt', 'wt_cod',\n",
      "       'rept.dt1', 'to_mfr', 'occp_cod', 'reporter_country', 'occr_country'],\n",
      "      dtype='object') \n",
      "\n",
      "Percent missing by column:\n",
      "primaryid            0.000000\n",
      "caseid               0.000000\n",
      "caseversion          0.000000\n",
      "i_f_code             0.000000\n",
      "event.dt1           50.425676\n",
      "mfr_dt               5.891247\n",
      "init_fda_dt          0.000000\n",
      "fda_dt               0.000000\n",
      "rept_cod             0.000000\n",
      "auth_num            94.114401\n",
      "mfr_num              5.889943\n",
      "mfr_sndr             0.000000\n",
      "lit_ref             94.064002\n",
      "age                 41.312371\n",
      "age_cod             41.309547\n",
      "age_grp             89.348007\n",
      "sex                 10.358072\n",
      "e_sub                0.000000\n",
      "wt                  80.314646\n",
      "wt_cod              80.314646\n",
      "rept.dt1             0.047140\n",
      "to_mfr              94.109188\n",
      "occp_cod             4.056464\n",
      "reporter_country     0.000000\n",
      "occr_country         0.001738\n",
      "dtype: float64\n"
     ]
    }
   ],
   "source": [
    "# step 0: read demo.csv & check fields for missing values\n",
    "infile = '../input/DEMO20Q1.csv'\n",
    "#%timeit df_demo = pd.read_csv(infile) # 1 loop, best of 5: 5.19 s per loop\n",
    "df_demo = pd.read_csv(infile)\n",
    "print(df_demo.columns,'\\n')\n",
    "print(f'Percent missing by column:\\n{(pd.isnull(df_demo).sum()/len(df_demo))*100}')"
   ]
  },
  {
   "cell_type": "code",
   "execution_count": 6,
   "metadata": {},
   "outputs": [
    {
     "name": "stdout",
     "output_type": "stream",
     "text": [
      "   primaryid  caseversion i_f_code   event.dt1      mfr_dt init_fda_dt  \\\n",
      "0  100046942            2        F         NaN  2020-01-08  2014-03-12   \n",
      "1  100048206            6        F         NaN  2020-03-05  2014-03-12   \n",
      "2  100048622            2        F  2005-12-30  2020-03-12  2014-03-12   \n",
      "3  100051352            2        F  2006-09-22  2020-02-20  2014-03-12   \n",
      "4  100051382            2        F  1999-01-01  2020-01-08  2014-03-12   \n",
      "\n",
      "       fda_dt rept_cod                   mfr_num mfr_sndr  ...  age_cod  \\\n",
      "0  2020-01-10      EXP  US-PFIZER INC-2014065112   PFIZER  ...      NaN   \n",
      "1  2020-03-09      EXP  US-PFIZER INC-2014029927   PFIZER  ...       YR   \n",
      "2  2020-03-16      EXP  US-PFIZER INC-2014066653   PFIZER  ...       YR   \n",
      "3  2020-02-24      EXP  US-PFIZER INC-2014072143   PFIZER  ...       YR   \n",
      "4  2020-01-10      EXP  US-PFIZER INC-2014071938   PFIZER  ...       YR   \n",
      "\n",
      "  age_grp sex e_sub    wt  wt_cod    rept.dt1 occp_cod reporter_country  \\\n",
      "0     NaN   F     Y  81.0      KG  2020-01-10       LW               US   \n",
      "1     NaN   F     Y   NaN     NaN  2020-03-09       MD               US   \n",
      "2     NaN   F     Y   NaN     NaN  2020-03-16       LW               US   \n",
      "3     NaN   F     Y   NaN     NaN  2020-02-24       LW               US   \n",
      "4     NaN   F     Y  83.0      KG  2020-01-10       LW               US   \n",
      "\n",
      "  occr_country  \n",
      "0           US  \n",
      "1           US  \n",
      "2           US  \n",
      "3           US  \n",
      "4           US  \n",
      "\n",
      "[5 rows x 21 columns] \n",
      "\n",
      "Total number of rows: 460,327\n",
      "\n",
      "Percent missing by column:\n",
      "primaryid            0.000000\n",
      "caseversion          0.000000\n",
      "i_f_code             0.000000\n",
      "event.dt1           50.425676\n",
      "mfr_dt               5.891247\n",
      "init_fda_dt          0.000000\n",
      "fda_dt               0.000000\n",
      "rept_cod             0.000000\n",
      "mfr_num              5.889943\n",
      "mfr_sndr             0.000000\n",
      "age                 41.312371\n",
      "age_cod             41.309547\n",
      "age_grp             89.348007\n",
      "sex                 10.358072\n",
      "e_sub                0.000000\n",
      "wt                  80.314646\n",
      "wt_cod              80.314646\n",
      "rept.dt1             0.047140\n",
      "occp_cod             4.056464\n",
      "reporter_country     0.000000\n",
      "occr_country         0.001738\n",
      "dtype: float64\n"
     ]
    }
   ],
   "source": [
    "# step 1: exclude fields with large percent missing on read to preserve memory\n",
    "\n",
    "keep_cols = ['primaryid', 'caseversion', 'i_f_code', 'event.dt1', 'mfr_dt', 'init_fda_dt', 'fda_dt', \n",
    "             'rept_cod',  'mfr_num', 'mfr_sndr', 'age', 'age_cod', 'age_grp','sex', 'e_sub', 'wt', 'wt_cod', \n",
    "             'rept.dt1', 'occp_cod', 'reporter_country', 'occr_country']\n",
    "\n",
    "# removed cols: ['auth_num','lit_ref','to_mfr']\n",
    "\n",
    "infile = '../input/DEMO20Q1.csv'\n",
    "#%timeit df_demo = pd.read_csv(infile, usecols=keep_cols)  # 1 loop, best of 5: 4.5 s per loop\n",
    "df_demo = pd.read_csv(infile, usecols=keep_cols)\n",
    "df_demo.set_index('primaryid', drop=False)\n",
    "print(df_demo.head(),'\\n')\n",
    "print(f'Total number of rows: {len(df_demo):,}\\n')\n",
    "print(f'Percent missing by column:\\n{(pd.isnull(df_demo).sum()/len(df_demo))*100}')"
   ]
  },
  {
   "cell_type": "code",
   "execution_count": 8,
   "metadata": {},
   "outputs": [
    {
     "name": "stdout",
     "output_type": "stream",
     "text": [
      "Demo - Multilabel outcome Merge \n",
      "\n",
      "   primaryid  caseversion i_f_code   event.dt1      mfr_dt init_fda_dt  \\\n",
      "0  100046942            2        F         NaN  2020-01-08  2014-03-12   \n",
      "1  100048206            6        F         NaN  2020-03-05  2014-03-12   \n",
      "2  100048622            2        F  2005-12-30  2020-03-12  2014-03-12   \n",
      "3  100051352            2        F  2006-09-22  2020-02-20  2014-03-12   \n",
      "4  100051382            2        F  1999-01-01  2020-01-08  2014-03-12   \n",
      "\n",
      "       fda_dt rept_cod                   mfr_num mfr_sndr  ...  \\\n",
      "0  2020-01-10      EXP  US-PFIZER INC-2014065112   PFIZER  ...   \n",
      "1  2020-03-09      EXP  US-PFIZER INC-2014029927   PFIZER  ...   \n",
      "2  2020-03-16      EXP  US-PFIZER INC-2014066653   PFIZER  ...   \n",
      "3  2020-02-24      EXP  US-PFIZER INC-2014072143   PFIZER  ...   \n",
      "4  2020-01-10      EXP  US-PFIZER INC-2014071938   PFIZER  ...   \n",
      "\n",
      "   reporter_country occr_country outc_cod__CA outc_cod__DE outc_cod__DS  \\\n",
      "0                US           US            0            0            0   \n",
      "1                US           US            0            0            0   \n",
      "2                US           US            0            0            0   \n",
      "3                US           US            0            0            0   \n",
      "4                US           US            0            0            0   \n",
      "\n",
      "   outc_cod__HO outc_cod__LT outc_cod__OT outc_cod__RI n_outc  \n",
      "0             0            0            1            0      1  \n",
      "1             1            0            1            0      2  \n",
      "2             0            0            1            0      1  \n",
      "3             0            0            1            0      1  \n",
      "4             0            0            1            0      1  \n",
      "\n",
      "[5 rows x 29 columns] \n",
      "\n",
      "Total number of rows: 260,715\n",
      "\n",
      "Unique number of primaryids: 260,715 \n",
      "\n",
      "Percent missing by column:\n",
      "primaryid            0.000000\n",
      "caseversion          0.000000\n",
      "i_f_code             0.000000\n",
      "event.dt1           45.019657\n",
      "mfr_dt               4.475769\n",
      "init_fda_dt          0.000000\n",
      "fda_dt               0.000000\n",
      "rept_cod             0.000000\n",
      "mfr_num              4.473851\n",
      "mfr_sndr             0.000000\n",
      "age                 33.273881\n",
      "age_cod             33.269279\n",
      "age_grp             89.183975\n",
      "sex                  9.671097\n",
      "e_sub                0.000000\n",
      "wt                  74.717220\n",
      "wt_cod              74.717220\n",
      "rept.dt1             0.055616\n",
      "occp_cod             2.708321\n",
      "reporter_country     0.000000\n",
      "occr_country         0.001918\n",
      "outc_cod__CA         0.000000\n",
      "outc_cod__DE         0.000000\n",
      "outc_cod__DS         0.000000\n",
      "outc_cod__HO         0.000000\n",
      "outc_cod__LT         0.000000\n",
      "outc_cod__OT         0.000000\n",
      "outc_cod__RI         0.000000\n",
      "n_outc               0.000000\n",
      "dtype: float64\n"
     ]
    }
   ],
   "source": [
    "# step 2: merge demo and multilabel outcomes on primaryid\n",
    "\n",
    "df_demo_outc = pd.merge(df_demo, df2, on='primaryid')\n",
    "print('Demo - Multilabel outcome Merge','\\n')\n",
    "print(df_demo_outc.head(),'\\n')\n",
    "print(f'Total number of rows: {len(df_demo_outc):,}\\n')\n",
    "print(f'Unique number of primaryids: {df_demo_outc.primaryid.nunique():,}','\\n')\n",
    "print(f'Percent missing by column:\\n{(pd.isnull(df_demo_outc).sum()/len(df_demo_outc))*100}')"
   ]
  },
  {
   "cell_type": "code",
   "execution_count": 9,
   "metadata": {},
   "outputs": [
    {
     "name": "stdout",
     "output_type": "stream",
     "text": [
      "KG     65844\n",
      "LBS       72\n",
      "Name: wt_cod, dtype: int64\n",
      "          count        mean        std   min     25%     50%     75%     max\n",
      "wt_cod                                                                      \n",
      "KG      65844.0   73.377305  26.078758   0.0   59.00   72.00   86.26  720.18\n",
      "LBS        72.0  171.151389  60.316181  17.0  128.75  165.75  195.25  361.00\n",
      "                 age        wt_lbs\n",
      "count  173965.000000  65916.000000\n",
      "mean      237.044055    161.779543\n",
      "std      2050.336650     57.497343\n",
      "min        -3.000000      0.000000\n",
      "25%        43.000000    130.072757\n",
      "50%        60.000000    158.732856\n",
      "75%        72.000000    190.170780\n",
      "max     41879.000000   1587.725392\n",
      "             age    wt_lbs\n",
      "age     1.000000  0.042254\n",
      "wt_lbs  0.042254  1.000000\n",
      "AxesSubplot(0.125,0.125;0.775x0.755)\n"
     ]
    },
    {
     "data": {
      "image/png": "[encoded data removed]",
      "text/plain": [
       "<Figure size 432x288 with 1 Axes>"
      ]
     },
     "metadata": {
      "needs_background": "light"
     },
     "output_type": "display_data"
    }
   ],
   "source": [
    "# step 3: calculate wt_lbs and check\n",
    "\n",
    "print(df_demo_outc.wt_cod.value_counts()) \n",
    "print(df_demo_outc.groupby('wt_cod')['wt'].describe())\n",
    "# convert kg to lbs\n",
    "df_demo_outc['wt_lbs'] = np.where(df_demo_outc['wt_cod']=='KG',df_demo_outc['wt']*2.204623,df_demo_outc['wt'])\n",
    "print(df_demo_outc[['age','wt_lbs']].describe())\n",
    "print(df_demo_outc[['age','wt_lbs']].corr())\n",
    "print(sns.regplot('age','wt_lbs',data=df_demo_outc))"
   ]
  },
  {
   "cell_type": "markdown",
   "metadata": {},
   "source": [
    "### Insight: No correlation between wt and age + age range looks wrong. Check age distributions"
   ]
  },
  {
   "cell_type": "code",
   "execution_count": 14,
   "metadata": {},
   "outputs": [
    {
     "name": "stdout",
     "output_type": "stream",
     "text": [
      "age_grp\n",
      "A    17048\n",
      "E     8674\n",
      "N     1004\n",
      "C      626\n",
      "T      503\n",
      "I      344\n",
      "Name: age_grp, dtype: int64 \n",
      "\n",
      "age_cod\n",
      "YR     168732\n",
      "DY       2289\n",
      "MON      1434\n",
      "DEC      1377\n",
      "WK        134\n",
      "HR         11\n",
      "Name: age_cod, dtype: int64 \n",
      "\n",
      "age\n",
      "                   count       mean        std   min    25%   50%    75%  \\\n",
      "age_grp age_cod                                                            \n",
      "A       DEC         73.0   4.424658   1.311464   2.0   3.00   5.0   6.00   \n",
      "        MON          1.0  19.000000        NaN  19.0  19.00  19.0  19.00   \n",
      "        YR       10548.0  46.204115  12.832555  14.0  36.00  49.0  57.00   \n",
      "C       MON          4.0  29.500000   5.196152  24.0  26.25  29.0  32.25   \n",
      "        YR         315.0   6.726984   3.043486   2.0   4.00   7.0   9.00   \n",
      "E       DEC         65.0   7.830769   0.893890   7.0   7.00   8.0   8.00   \n",
      "        YR        6096.0  74.605315   7.153633  44.0  69.00  73.0  79.00   \n",
      "I       DY           1.0   1.000000        NaN   1.0   1.00   1.0   1.00   \n",
      "        MON         63.0   9.190476   5.535391   1.0   5.00   9.0  11.50   \n",
      "        WK           4.0  14.250000  14.705441   4.0   6.25   8.5  16.50   \n",
      "        YR          12.0   1.166667   0.389249   1.0   1.00   1.0   1.00   \n",
      "N       DY          61.0   1.540984   3.423321   0.0   0.00   0.0   1.00   \n",
      "        HR           1.0   1.000000        NaN   1.0   1.00   1.0   1.00   \n",
      "        MON         14.0  13.857143  11.400790   3.0   5.25   9.5  17.00   \n",
      "        YR           6.0   0.166667   0.408248   0.0   0.00   0.0   0.00   \n",
      "T       YR         388.0  14.938144   1.631818  12.0  14.00  15.0  16.00   \n",
      "\n",
      "                   max  \n",
      "age_grp age_cod         \n",
      "A       DEC        6.0  \n",
      "        MON       19.0  \n",
      "        YR        82.0  \n",
      "C       MON       36.0  \n",
      "        YR        13.0  \n",
      "E       DEC       10.0  \n",
      "        YR       103.0  \n",
      "I       DY         1.0  \n",
      "        MON       23.0  \n",
      "        WK        36.0  \n",
      "        YR         2.0  \n",
      "N       DY        16.0  \n",
      "        HR         1.0  \n",
      "        MON       34.0  \n",
      "        YR         1.0  \n",
      "T       YR        19.0  \n"
     ]
    }
   ],
   "source": [
    "# step 4: check age fields\n",
    "\n",
    "# age_grp\n",
    "print('age_grp')\n",
    "print(df_demo_outc.age_grp.value_counts(),'\\n') \n",
    "# age_cod\n",
    "print('age_cod')\n",
    "print(df_demo_outc.age_cod.value_counts(),'\\n')\n",
    "# age\n",
    "print('age')\n",
    "print(df_demo_outc.groupby(['age_grp','age_cod'])['age'].describe()) "
   ]
  },
  {
   "cell_type": "markdown",
   "metadata": {},
   "source": [
    "### age_grp, age_cod, age: Distributions by age group & code look reasonable. Create age in yrs. \n",
    "\n",
    "age_grp\n",
    "* N - Neonate\n",
    "* I - Infant\n",
    "* C - Child\n",
    "* T - Adolescent (teen?)\n",
    "* A - Adult\n",
    "* E - Elderly\n",
    "\n",
    "age_cod\n",
    "* DEC - decade (yrs = 10*DEC)\n",
    "* YR - year (yrs = 1*YR)\n",
    "* MON - month (yrs = MON/12)\n",
    "* WK - week (yrs = WK/52)\n",
    "* DY - day (yrs = DY/365.25)\n",
    "* HR - hour (yrs = HR/(365.25*24)) or code to zero"
   ]
  },
  {
   "cell_type": "code",
   "execution_count": 10,
   "metadata": {},
   "outputs": [
    {
     "name": "stdout",
     "output_type": "stream",
     "text": [
      "age_yrs\n",
      "                   count       mean        std        min        25%  \\\n",
      "age_grp age_cod                                                        \n",
      "A       DEC         73.0  44.246575  13.114645  20.000000  30.000000   \n",
      "        MON          1.0   1.583333        NaN   1.583333   1.583333   \n",
      "        YR       10548.0  46.204115  12.832555  14.000000  36.000000   \n",
      "C       MON          4.0   2.458333   0.433013   2.000000   2.187500   \n",
      "        YR         315.0   6.726984   3.043486   2.000000   4.000000   \n",
      "E       DEC         65.0  78.307692   8.938895  70.000000  70.000000   \n",
      "        YR        6096.0  74.605315   7.153633  44.000000  69.000000   \n",
      "I       DY           1.0   0.002738        NaN   0.002738   0.002738   \n",
      "        MON         63.0   0.765873   0.461283   0.083333   0.416667   \n",
      "        WK           4.0   0.274038   0.282797   0.076923   0.120192   \n",
      "        YR          12.0   1.166667   0.389249   1.000000   1.000000   \n",
      "N       DY          61.0   0.004219   0.009373   0.000000   0.000000   \n",
      "        HR           1.0   1.000000        NaN   1.000000   1.000000   \n",
      "        MON         14.0   1.154762   0.950066   0.250000   0.437500   \n",
      "        YR           6.0   0.166667   0.408248   0.000000   0.000000   \n",
      "T       YR         388.0  14.938144   1.631818  12.000000  14.000000   \n",
      "\n",
      "                       50%        75%         max  \n",
      "age_grp age_cod                                    \n",
      "A       DEC      50.000000  60.000000   60.000000  \n",
      "        MON       1.583333   1.583333    1.583333  \n",
      "        YR       49.000000  57.000000   82.000000  \n",
      "C       MON       2.416667   2.687500    3.000000  \n",
      "        YR        7.000000   9.000000   13.000000  \n",
      "E       DEC      80.000000  80.000000  100.000000  \n",
      "        YR       73.000000  79.000000  103.000000  \n",
      "I       DY        0.002738   0.002738    0.002738  \n",
      "        MON       0.750000   0.958333    1.916667  \n",
      "        WK        0.163462   0.317308    0.692308  \n",
      "        YR        1.000000   1.000000    2.000000  \n",
      "N       DY        0.000000   0.002738    0.043806  \n",
      "        HR        1.000000   1.000000    1.000000  \n",
      "        MON       0.791667   1.416667    2.833333  \n",
      "        YR        0.000000   0.000000    1.000000  \n",
      "T       YR       15.000000  16.000000   19.000000  \n",
      "                 age        age_yrs\n",
      "count  173965.000000  173965.000000\n",
      "mean      237.044055      55.906426\n",
      "std      2050.336650      20.714407\n",
      "min        -3.000000      -3.000000\n",
      "25%        43.000000      43.000000\n",
      "50%        60.000000      60.000000\n",
      "75%        72.000000      71.000000\n",
      "max     41879.000000     120.000000\n",
      "           wt_lbs   age_yrs\n",
      "wt_lbs   1.000000  0.229312\n",
      "age_yrs  0.229312  1.000000\n",
      "AxesSubplot(0.125,0.125;0.775x0.755)\n"
     ]
    },
    {
     "data": {
      "image/png": "[encoded data removed]",
      "text/plain": [
       "<Figure size 432x288 with 1 Axes>"
      ]
     },
     "metadata": {
      "needs_background": "light"
     },
     "output_type": "display_data"
    }
   ],
   "source": [
    "# step 5: calculate age_yrs and check corr with wt_lbs\n",
    "\n",
    "df_demo_outc['age_yrs'] = np.where(df_demo_outc['age_cod']=='DEC',df_demo_outc['age']*10,\n",
    "                                  np.where(df_demo_outc['age_cod']=='MON',df_demo_outc['age']/12,\n",
    "                                  np.where(df_demo_outc['age_cod']=='WK',df_demo_outc['age']/52,\n",
    "                                  np.where(df_demo_outc['age_cod']=='DY',df_demo_outc['age']/365.25,\n",
    "                                  np.where(df_demo_outc['age_cod']=='DEC',df_demo_outc['age']/8766,\n",
    "                                  df_demo_outc['age'])))))\n",
    "\n",
    "# age_yrs\n",
    "print('age_yrs')\n",
    "print(df_demo_outc.groupby(['age_grp','age_cod'])['age_yrs'].describe()) \n",
    "print(df_demo_outc[['age','age_yrs']].describe())\n",
    "print(df_demo_outc[['wt_lbs','age_yrs']].corr())\n",
    "print(sns.regplot('wt_lbs','age_yrs',data=df_demo_outc))"
   ]
  },
  {
   "cell_type": "markdown",
   "metadata": {},
   "source": [
    "### Halis checked and wt in 400-800 range (and max wt of 1,400 lbs) is correct"
   ]
  },
  {
   "cell_type": "code",
   "execution_count": 26,
   "metadata": {},
   "outputs": [
    {
     "name": "stdout",
     "output_type": "stream",
     "text": [
      "        primaryid  caseversion i_f_code   event.dt1      mfr_dt init_fda_dt  \\\n",
      "39797   169193346            6        F  2019-09-24  2020-01-16  2019-10-15   \n",
      "121172  173344201            1        I         NaN  2020-01-15  2020-01-28   \n",
      "\n",
      "            fda_dt rept_cod                                          mfr_num  \\\n",
      "39797   2020-01-16      EXP  JP-BRISTOL-MYERS SQUIBB COMPANY-BMS-2019-097328   \n",
      "121172  2020-01-28      EXP         US-LUPIN PHARMACEUTICALS INC.-2020-00387   \n",
      "\n",
      "                    mfr_sndr   ...      rept.dt1 occp_cod reporter_country  \\\n",
      "39797   BRISTOL MYERS SQUIBB   ...    2020-01-16       MD               JP   \n",
      "121172                 LUPIN   ...    2020-01-28       HP               US   \n",
      "\n",
      "       occr_country death  other serious n_outc       wt_lbs age_yrs  \n",
      "39797            JP     1      1       2      4  1418.674901    58.0  \n",
      "121172           US     1      1       2      4  1587.725392     NaN  \n",
      "\n",
      "[2 rows x 27 columns]\n"
     ]
    }
   ],
   "source": [
    "# review data where wt_lbs > 800 lbs?\n",
    "print(df_demo_outc[df_demo_outc['wt_lbs'] > 800])"
   ]
  },
  {
   "cell_type": "code",
   "execution_count": 16,
   "metadata": {},
   "outputs": [
    {
     "name": "stdout",
     "output_type": "stream",
     "text": [
      "Number of patients with adverse events by manufacturer reported in 2020Q1 from DEMO table:\n",
      "PFIZER                               35415\n",
      "NOVARTIS                             35022\n",
      "FDA-CTU                              27113\n",
      "GALDERMA                             26005\n",
      "ABBVIE                               23892\n",
      "JOHNSON AND JOHNSON                  21011\n",
      "CELGENE                              16846\n",
      "ROCHE                                16543\n",
      "MYLAN                                14987\n",
      "SANOFI AVENTIS                       14526\n",
      "AMGEN                                13995\n",
      "BRISTOL MYERS SQUIBB                 13050\n",
      "TEVA                                 12774\n",
      "GLAXOSMITHKLINE                      10212\n",
      "ASTRAZENECA                           9396\n",
      "ELI LILLY AND CO                      8441\n",
      "BAYER                                 7870\n",
      "ALLERGAN                              7727\n",
      "AUROBINDO                             7699\n",
      "MERCK                                 6750\n",
      "BIOGEN                                6432\n",
      "TAKEDA                                4742\n",
      "BOEHRINGER INGELHEIM                  4442\n",
      "UCB                                   4411\n",
      "GILEAD                                4360\n",
      "ACTELION                              4256\n",
      "SHIRE                                 4217\n",
      "RANBAXY                               3919\n",
      "ACORDA                                3289\n",
      "BAUSCH AND LOMB                       3082\n",
      "                                     ...  \n",
      "MANNKIND                                 1\n",
      "METHAPHARM                               1\n",
      "TARGET                                   1\n",
      "EVUS PHARMACEUTICALS                     1\n",
      "HERCON                                   1\n",
      "HANGZHOU MINSHENG BINJIANG PHARMA        1\n",
      "TECHNOMED                                1\n",
      "AVONDALE PHARMACEUTICALS                 1\n",
      "TAMARANG PHARMACEUTICALS                 1\n",
      "MLV PHARMA                               1\n",
      "PROGENICS PHARMACEUTICALS                1\n",
      "VGYAAN PHARMACEUTICALS                   1\n",
      "ACCESS                                   1\n",
      "AVELLA SPECIALTY - COMPOUNDING           1\n",
      "NAPO PHARMACEUTICALS                     1\n",
      "NIELSEN BIOSCIENCES                      1\n",
      "MEDINATURA                               1\n",
      "BLUE EARTH DIAGNOSTICS                   1\n",
      "BIOLOGICAL E.                            1\n",
      "ZEALAND PHARMACEUTICALS                  1\n",
      "CATALENT PHARMA                          1\n",
      "ALLERMED LABORATORIES                    1\n",
      "IRONSHORE PHARMA                         1\n",
      "STI PHARMA                               1\n",
      "HALOZYME                                 1\n",
      "PHARMACEUTICS INTERNATIONAL              1\n",
      "PHARMAXIS                                1\n",
      "AIR PRODUCTS                             1\n",
      "KNIGHT THERAPEUTICS                      1\n",
      "PHARMACEUTICAL ASSOC                     1\n",
      "Name: mfr_sndr, Length: 504, dtype: int64\n"
     ]
    }
   ],
   "source": [
    "# step 6: Number of AE's reported in 2020Q1 by manufacturer\n",
    "\n",
    "print('Number of patients with adverse events by manufacturer reported in 2020Q1 from DEMO table:')\n",
    "print(df_demo_outc.mfr_sndr.value_counts())  "
   ]
  },
  {
   "cell_type": "code",
   "execution_count": 11,
   "metadata": {},
   "outputs": [
    {
     "name": "stdout",
     "output_type": "stream",
     "text": [
      "Index(['primaryid', 'caseversion', 'i_f_code', 'event.dt1', 'mfr_dt',\n",
      "       'init_fda_dt', 'fda_dt', 'rept_cod', 'mfr_num', 'mfr_sndr', 'age',\n",
      "       'age_cod', 'age_grp', 'sex', 'e_sub', 'wt', 'wt_cod', 'rept.dt1',\n",
      "       'occp_cod', 'reporter_country', 'occr_country', 'outc_cod__CA',\n",
      "       'outc_cod__DE', 'outc_cod__DS', 'outc_cod__HO', 'outc_cod__LT',\n",
      "       'outc_cod__OT', 'outc_cod__RI', 'n_outc', 'wt_lbs', 'age_yrs'],\n",
      "      dtype='object')\n"
     ]
    }
   ],
   "source": [
    "# step 7: save updated file to csv\n",
    "\n",
    "print(df_demo_outc.columns)\n",
    "# save merged demo & multilabel data to csv\n",
    "df_demo_outc.to_csv('../input/demo-outc_cod-multilabel-wt_lbs-age_yrs.csv')"
   ]
  },
  {
   "cell_type": "markdown",
   "metadata": {},
   "source": [
    "## ML Pipeline: Preprocessing"
   ]
  },
  {
   "cell_type": "code",
   "execution_count": 12,
   "metadata": {
    "scrolled": false
   },
   "outputs": [
    {
     "name": "stdout",
     "output_type": "stream",
     "text": [
      "I    164918\n",
      "F     95797\n",
      "Name: i_f_code, dtype: int64 \n",
      "\n",
      "EXP      222818\n",
      "PER       26229\n",
      "DIR       11664\n",
      "5DAY          3\n",
      "30DAY         1\n",
      "Name: rept_cod, dtype: int64 \n",
      "\n",
      "F      135630\n",
      "M       99851\n",
      "UNK        20\n",
      "Name: sex, dtype: int64 \n",
      "\n",
      "CN    88471\n",
      "MD    72708\n",
      "HP    70916\n",
      "PH    17819\n",
      "LW     3740\n",
      "Name: occp_cod, dtype: int64 \n",
      "\n",
      "       i_f_code rept_cod     sex occp_cod\n",
      "count    260715   260715  235501   253654\n",
      "unique        2        5       3        5\n",
      "top           I      EXP       F       CN\n",
      "freq     164918   222818  135630    88471 \n",
      "\n"
     ]
    }
   ],
   "source": [
    "# step 0: check cat vars for one-hot coding\n",
    "\n",
    "cat_lst = ['i_f_code','rept_cod','sex','occp_cod']\n",
    "[print(df_demo_outc[x].value_counts(),'\\n') for x in cat_lst]\n",
    "print(df_demo_outc[cat_lst].describe(),'\\n')  # sex, occp_cod have missing values"
   ]
  },
  {
   "cell_type": "code",
   "execution_count": 13,
   "metadata": {},
   "outputs": [
    {
     "name": "stdout",
     "output_type": "stream",
     "text": [
      "Index(['primaryid', 'caseversion', 'event.dt1', 'mfr_dt', 'init_fda_dt',\n",
      "       'fda_dt', 'mfr_num', 'mfr_sndr', 'age', 'age_cod', 'age_grp', 'e_sub',\n",
      "       'wt', 'wt_cod', 'rept.dt1', 'reporter_country', 'occr_country',\n",
      "       'outc_cod__CA', 'outc_cod__DE', 'outc_cod__DS', 'outc_cod__HO',\n",
      "       'outc_cod__LT', 'outc_cod__OT', 'outc_cod__RI', 'n_outc', 'wt_lbs',\n",
      "       'age_yrs', 'i_f_code__I', 'rept_cod__5DAY', 'rept_cod__DIR',\n",
      "       'rept_cod__EXP', 'rept_cod__PER', 'occp_cod__HP', 'occp_cod__LW',\n",
      "       'occp_cod__MD', 'occp_cod__PH', 'sex__M', 'sex__UNK'],\n",
      "      dtype='object')\n",
      "                   count          mean           std         min  \\\n",
      "primaryid       260715.0  1.905476e+08  1.567929e+08  39651443.0   \n",
      "caseversion     260715.0  1.950620e+00  2.538483e+00         1.0   \n",
      "age             173965.0  2.370441e+02  2.050337e+03        -3.0   \n",
      "wt               65916.0  7.348410e+01  2.633834e+01         0.0   \n",
      "outc_cod__CA    260715.0  6.129298e-03  7.804969e-02         0.0   \n",
      "outc_cod__DE    260715.0  1.542719e-01  3.612099e-01         0.0   \n",
      "outc_cod__DS    260715.0  2.656157e-02  1.607985e-01         0.0   \n",
      "outc_cod__HO    260715.0  4.048175e-01  4.908576e-01         0.0   \n",
      "outc_cod__LT    260715.0  4.762288e-02  2.129674e-01         0.0   \n",
      "outc_cod__OT    260715.0  6.459544e-01  4.782240e-01         0.0   \n",
      "outc_cod__RI    260715.0  1.373147e-03  3.703062e-02         0.0   \n",
      "n_outc          260715.0  1.286731e+00  5.546336e-01         1.0   \n",
      "wt_lbs           65916.0  1.617795e+02  5.749734e+01         0.0   \n",
      "age_yrs         173965.0  5.590643e+01  2.071441e+01        -3.0   \n",
      "i_f_code__I     260715.0  6.325605e-01  4.821085e-01         0.0   \n",
      "rept_cod__5DAY  260715.0  1.150682e-05  3.392157e-03         0.0   \n",
      "rept_cod__DIR   260715.0  4.473851e-02  2.067296e-01         0.0   \n",
      "rept_cod__EXP   260715.0  8.546420e-01  3.524621e-01         0.0   \n",
      "rept_cod__PER   260715.0  1.006041e-01  3.008044e-01         0.0   \n",
      "occp_cod__HP    260715.0  2.720058e-01  4.449937e-01         0.0   \n",
      "occp_cod__LW    260715.0  1.434517e-02  1.189094e-01         0.0   \n",
      "occp_cod__MD    260715.0  2.788792e-01  4.484489e-01         0.0   \n",
      "occp_cod__PH    260715.0  6.834666e-02  2.523403e-01         0.0   \n",
      "sex__M          260715.0  3.829891e-01  4.861166e-01         0.0   \n",
      "sex__UNK        260715.0  7.671212e-05  8.758226e-03         0.0   \n",
      "\n",
      "                         25%           50%           75%           max  \n",
      "primaryid       1.723185e+08  1.736196e+08  1.748495e+08  1.741600e+09  \n",
      "caseversion     1.000000e+00  1.000000e+00  2.000000e+00  9.200000e+01  \n",
      "age             4.300000e+01  6.000000e+01  7.200000e+01  4.187900e+04  \n",
      "wt              5.900000e+01  7.200000e+01  8.640000e+01  7.201800e+02  \n",
      "outc_cod__CA    0.000000e+00  0.000000e+00  0.000000e+00  1.000000e+00  \n",
      "outc_cod__DE    0.000000e+00  0.000000e+00  0.000000e+00  1.000000e+00  \n",
      "outc_cod__DS    0.000000e+00  0.000000e+00  0.000000e+00  1.000000e+00  \n",
      "outc_cod__HO    0.000000e+00  0.000000e+00  1.000000e+00  1.000000e+00  \n",
      "outc_cod__LT    0.000000e+00  0.000000e+00  0.000000e+00  1.000000e+00  \n",
      "outc_cod__OT    0.000000e+00  1.000000e+00  1.000000e+00  1.000000e+00  \n",
      "outc_cod__RI    0.000000e+00  0.000000e+00  0.000000e+00  1.000000e+00  \n",
      "n_outc          1.000000e+00  1.000000e+00  1.000000e+00  6.000000e+00  \n",
      "wt_lbs          1.300728e+02  1.587329e+02  1.901708e+02  1.587725e+03  \n",
      "age_yrs         4.300000e+01  6.000000e+01  7.100000e+01  1.200000e+02  \n",
      "i_f_code__I     0.000000e+00  1.000000e+00  1.000000e+00  1.000000e+00  \n",
      "rept_cod__5DAY  0.000000e+00  0.000000e+00  0.000000e+00  1.000000e+00  \n",
      "rept_cod__DIR   0.000000e+00  0.000000e+00  0.000000e+00  1.000000e+00  \n",
      "rept_cod__EXP   1.000000e+00  1.000000e+00  1.000000e+00  1.000000e+00  \n",
      "rept_cod__PER   0.000000e+00  0.000000e+00  0.000000e+00  1.000000e+00  \n",
      "occp_cod__HP    0.000000e+00  0.000000e+00  1.000000e+00  1.000000e+00  \n",
      "occp_cod__LW    0.000000e+00  0.000000e+00  0.000000e+00  1.000000e+00  \n",
      "occp_cod__MD    0.000000e+00  0.000000e+00  1.000000e+00  1.000000e+00  \n",
      "occp_cod__PH    0.000000e+00  0.000000e+00  0.000000e+00  1.000000e+00  \n",
      "sex__M          0.000000e+00  0.000000e+00  1.000000e+00  1.000000e+00  \n",
      "sex__UNK        0.000000e+00  0.000000e+00  0.000000e+00  1.000000e+00  \n",
      "   primaryid  caseversion   event.dt1      mfr_dt init_fda_dt      fda_dt  \\\n",
      "0  100046942            2         NaN  2020-01-08  2014-03-12  2020-01-10   \n",
      "1  100048206            6         NaN  2020-03-05  2014-03-12  2020-03-09   \n",
      "2  100048622            2  2005-12-30  2020-03-12  2014-03-12  2020-03-16   \n",
      "3  100051352            2  2006-09-22  2020-02-20  2014-03-12  2020-02-24   \n",
      "4  100051382            2  1999-01-01  2020-01-08  2014-03-12  2020-01-10   \n",
      "\n",
      "                    mfr_num mfr_sndr   age age_cod  ... rept_cod__5DAY  \\\n",
      "0  US-PFIZER INC-2014065112   PFIZER   NaN     NaN  ...              0   \n",
      "1  US-PFIZER INC-2014029927   PFIZER  68.0      YR  ...              0   \n",
      "2  US-PFIZER INC-2014066653   PFIZER  57.0      YR  ...              0   \n",
      "3  US-PFIZER INC-2014072143   PFIZER  51.0      YR  ...              0   \n",
      "4  US-PFIZER INC-2014071938   PFIZER  50.0      YR  ...              0   \n",
      "\n",
      "  rept_cod__DIR  rept_cod__EXP rept_cod__PER occp_cod__HP occp_cod__LW  \\\n",
      "0             0              1             0            0            1   \n",
      "1             0              1             0            0            0   \n",
      "2             0              1             0            0            1   \n",
      "3             0              1             0            0            1   \n",
      "4             0              1             0            0            1   \n",
      "\n",
      "  occp_cod__MD  occp_cod__PH  sex__M  sex__UNK  \n",
      "0            0             0       0         0  \n",
      "1            1             0       0         0  \n",
      "2            0             0       0         0  \n",
      "3            0             0       0         0  \n",
      "4            0             0       0         0  \n",
      "\n",
      "[5 rows x 38 columns]\n"
     ]
    }
   ],
   "source": [
    "# step 1: create one-hot dummies for multilabel outcomes\n",
    "\n",
    "cat_cols = ['i_f_code', 'rept_cod', 'occp_cod', 'sex']\n",
    "df = pd.get_dummies(df_demo_outc, prefix_sep=\"__\", columns=cat_cols, drop_first=True)\n",
    "print(df.columns)\n",
    "print(df.describe().T)\n",
    "print(df.head())"
   ]
  },
  {
   "cell_type": "markdown",
   "metadata": {},
   "source": [
    "## check sklearn for imputation options"
   ]
  },
  {
   "cell_type": "code",
   "execution_count": 24,
   "metadata": {},
   "outputs": [
    {
     "name": "stdout",
     "output_type": "stream",
     "text": [
      "Index(['primaryid', 'caseid', 'caseversion', 'event.dt1', 'mfr_dt',\n",
      "       'init_fda_dt', 'fda_dt', 'auth_num', 'mfr_num', 'mfr_sndr', 'lit_ref',\n",
      "       'age', 'age_cod', 'age_grp', 'e_sub', 'wt', 'wt_cod', 'rept.dt1',\n",
      "       'to_mfr', 'reporter_country', 'occr_country', 'outc_cod__CA',\n",
      "       'outc_cod__DE', 'outc_cod__DS', 'outc_cod__HO', 'outc_cod__LT',\n",
      "       'outc_cod__OT', 'outc_cod__RI', 'oc_cat__death', 'oc_cat__other',\n",
      "       'oc_cat__serious', 'n_outc', 'wt_lbs', 'age_yrs', 'i_f_code__I',\n",
      "       'rept_cod__5DAY', 'rept_cod__DIR', 'rept_cod__EXP', 'rept_cod__PER',\n",
      "       'occp_cod__HP', 'occp_cod__LW', 'occp_cod__MD', 'occp_cod__PH',\n",
      "       'sex__M', 'sex__UNK'],\n",
      "      dtype='object') \n",
      "\n",
      "Percent missing by column:\n",
      "primaryid            0.000000\n",
      "caseid               0.000000\n",
      "caseversion          0.000000\n",
      "event.dt1           45.019657\n",
      "mfr_dt               4.475769\n",
      "init_fda_dt          0.000000\n",
      "fda_dt               0.000000\n",
      "auth_num            90.010164\n",
      "mfr_num              4.473851\n",
      "mfr_sndr             0.000000\n",
      "lit_ref             90.137890\n",
      "age                 33.273881\n",
      "age_cod             33.269279\n",
      "age_grp             89.183975\n",
      "e_sub                0.000000\n",
      "wt                  74.717220\n",
      "wt_cod              74.717220\n",
      "rept.dt1             0.055616\n",
      "to_mfr              95.524615\n",
      "reporter_country     0.000000\n",
      "occr_country         0.001918\n",
      "outc_cod__CA         0.000000\n",
      "outc_cod__DE         0.000000\n",
      "outc_cod__DS         0.000000\n",
      "outc_cod__HO         0.000000\n",
      "outc_cod__LT         0.000000\n",
      "outc_cod__OT         0.000000\n",
      "outc_cod__RI         0.000000\n",
      "oc_cat__death        0.000000\n",
      "oc_cat__other        0.000000\n",
      "oc_cat__serious      0.000000\n",
      "n_outc               0.000000\n",
      "wt_lbs              74.717220\n",
      "age_yrs             33.273881\n",
      "i_f_code__I          0.000000\n",
      "rept_cod__5DAY       0.000000\n",
      "rept_cod__DIR        0.000000\n",
      "rept_cod__EXP        0.000000\n",
      "rept_cod__PER        0.000000\n",
      "occp_cod__HP         0.000000\n",
      "occp_cod__LW         0.000000\n",
      "occp_cod__MD         0.000000\n",
      "occp_cod__PH         0.000000\n",
      "sex__M               0.000000\n",
      "sex__UNK             0.000000\n",
      "dtype: float64\n",
      "['n_outc', 'wt_lbs', 'age_yrs', 'n_outc', 'wt_lbs', 'age_yrs', 'i_f_code__I', 'rept_cod__5DAY', 'rept_cod__DIR', 'rept_cod__EXP', 'rept_cod__PER', 'occp_cod__HP', 'occp_cod__LW', 'occp_cod__MD', 'occp_cod__PH', 'sex__M', 'sex__UNK']\n",
      "(17,) n_outc              1.286731\n",
      "wt_lbs            161.779543\n",
      "age_yrs            55.906426\n",
      "n_outc              1.286731\n",
      "wt_lbs            161.779543\n",
      "age_yrs            55.906426\n",
      "i_f_code__I         0.632560\n",
      "rept_cod__5DAY      0.000012\n",
      "rept_cod__DIR       0.044739\n",
      "rept_cod__EXP       0.854642\n",
      "rept_cod__PER       0.100604\n",
      "occp_cod__HP        0.272006\n",
      "occp_cod__LW        0.014345\n",
      "occp_cod__MD        0.278879\n",
      "occp_cod__PH        0.068347\n",
      "sex__M              0.382989\n",
      "sex__UNK            0.000077\n",
      "dtype: float64\n"
     ]
    }
   ],
   "source": [
    "# step 2: use means to impute the missing values of the features with missing records\n",
    "\n",
    "# calculate percent missing\n",
    "print(df.columns,'\\n')\n",
    "print(f'Percent missing by column:\\n{(pd.isnull(df).sum()/len(df))*100}')\n",
    "\n",
    "num_inputs = ['n_outc', 'wt_lbs', 'age_yrs']\n",
    "cat_inputs = ['n_outc', 'wt_lbs', 'age_yrs', 'i_f_code__I',  'rept_cod__5DAY', \n",
    "              'rept_cod__DIR', 'rept_cod__EXP', 'rept_cod__PER', 'occp_cod__HP', \n",
    "              'occp_cod__LW', 'occp_cod__MD', 'occp_cod__PH', 'sex__M', 'sex__UNK']\n",
    "\n",
    "inputs = num_inputs + cat_inputs\n",
    "print(inputs)\n",
    "\n",
    "target_labels = ['oc_cat__death', 'oc_cat__other', 'oc_cat__serious']\n",
    "\n",
    "# calculate means\n",
    "means = df[inputs].mean()\n",
    "print(means.shape, means)"
   ]
  },
  {
   "cell_type": "code",
   "execution_count": 42,
   "metadata": {
    "scrolled": false
   },
   "outputs": [
    {
     "name": "stdout",
     "output_type": "stream",
     "text": [
      "mean fill NA - wt_lbs & age_yrs\n",
      "                    count          mean           std         min  \\\n",
      "primaryid        260715.0  1.905476e+08  1.567929e+08  39651443.0   \n",
      "caseid           260715.0  1.704415e+07  1.077987e+06   3965144.0   \n",
      "caseversion      260715.0  1.950620e+00  2.538483e+00         1.0   \n",
      "age              173965.0  2.370441e+02  2.050337e+03        -3.0   \n",
      "wt                65916.0  7.348410e+01  2.633834e+01         0.0   \n",
      "outc_cod__CA     260715.0  6.129298e-03  7.804969e-02         0.0   \n",
      "outc_cod__DE     260715.0  1.542719e-01  3.612099e-01         0.0   \n",
      "outc_cod__DS     260715.0  2.656157e-02  1.607985e-01         0.0   \n",
      "outc_cod__HO     260715.0  4.048175e-01  4.908576e-01         0.0   \n",
      "outc_cod__LT     260715.0  4.762288e-02  2.129674e-01         0.0   \n",
      "outc_cod__OT     260715.0  6.459544e-01  4.782240e-01         0.0   \n",
      "outc_cod__RI     260715.0  1.373147e-03  3.703062e-02         0.0   \n",
      "oc_cat__death    260715.0  1.542719e-01  3.612099e-01         0.0   \n",
      "oc_cat__other    260715.0  6.459544e-01  4.782240e-01         0.0   \n",
      "oc_cat__serious  260715.0  4.865044e-01  5.789312e-01         0.0   \n",
      "n_outc           260715.0  1.286731e+00  5.546336e-01         1.0   \n",
      "wt_lbs            65916.0  1.617795e+02  5.749734e+01         0.0   \n",
      "age_yrs          173965.0  5.590643e+01  2.071441e+01        -3.0   \n",
      "i_f_code__I      260715.0  6.325605e-01  4.821085e-01         0.0   \n",
      "rept_cod__5DAY   260715.0  1.150682e-05  3.392157e-03         0.0   \n",
      "rept_cod__DIR    260715.0  4.473851e-02  2.067296e-01         0.0   \n",
      "rept_cod__EXP    260715.0  8.546420e-01  3.524621e-01         0.0   \n",
      "rept_cod__PER    260715.0  1.006041e-01  3.008044e-01         0.0   \n",
      "occp_cod__HP     260715.0  2.720058e-01  4.449937e-01         0.0   \n",
      "occp_cod__LW     260715.0  1.434517e-02  1.189094e-01         0.0   \n",
      "occp_cod__MD     260715.0  2.788792e-01  4.484489e-01         0.0   \n",
      "occp_cod__PH     260715.0  6.834666e-02  2.523403e-01         0.0   \n",
      "sex__M           260715.0  3.829891e-01  4.861166e-01         0.0   \n",
      "sex__UNK         260715.0  7.671212e-05  8.758226e-03         0.0   \n",
      "wt_lbs_mean      260715.0  1.617795e+02  2.891064e+01         0.0   \n",
      "age_yrs_mean     260715.0  5.590643e+01  1.692077e+01        -3.0   \n",
      "\n",
      "                          25%           50%           75%           max  \n",
      "primaryid        1.723185e+08  1.736196e+08  1.748495e+08  1.741600e+09  \n",
      "caseid           1.722399e+07  1.735384e+07  1.747773e+07  1.762916e+07  \n",
      "caseversion      1.000000e+00  1.000000e+00  2.000000e+00  9.200000e+01  \n",
      "age              4.300000e+01  6.000000e+01  7.200000e+01  4.187900e+04  \n",
      "wt               5.900000e+01  7.200000e+01  8.640000e+01  7.201800e+02  \n",
      "outc_cod__CA     0.000000e+00  0.000000e+00  0.000000e+00  1.000000e+00  \n",
      "outc_cod__DE     0.000000e+00  0.000000e+00  0.000000e+00  1.000000e+00  \n",
      "outc_cod__DS     0.000000e+00  0.000000e+00  0.000000e+00  1.000000e+00  \n",
      "outc_cod__HO     0.000000e+00  0.000000e+00  1.000000e+00  1.000000e+00  \n",
      "outc_cod__LT     0.000000e+00  0.000000e+00  0.000000e+00  1.000000e+00  \n",
      "outc_cod__OT     0.000000e+00  1.000000e+00  1.000000e+00  1.000000e+00  \n",
      "outc_cod__RI     0.000000e+00  0.000000e+00  0.000000e+00  1.000000e+00  \n",
      "oc_cat__death    0.000000e+00  0.000000e+00  0.000000e+00  1.000000e+00  \n",
      "oc_cat__other    0.000000e+00  1.000000e+00  1.000000e+00  1.000000e+00  \n",
      "oc_cat__serious  0.000000e+00  0.000000e+00  1.000000e+00  4.000000e+00  \n",
      "n_outc           1.000000e+00  1.000000e+00  1.000000e+00  6.000000e+00  \n",
      "wt_lbs           1.300728e+02  1.587329e+02  1.901708e+02  1.587725e+03  \n",
      "age_yrs          4.300000e+01  6.000000e+01  7.100000e+01  1.200000e+02  \n",
      "i_f_code__I      0.000000e+00  1.000000e+00  1.000000e+00  1.000000e+00  \n",
      "rept_cod__5DAY   0.000000e+00  0.000000e+00  0.000000e+00  1.000000e+00  \n",
      "rept_cod__DIR    0.000000e+00  0.000000e+00  0.000000e+00  1.000000e+00  \n",
      "rept_cod__EXP    1.000000e+00  1.000000e+00  1.000000e+00  1.000000e+00  \n",
      "rept_cod__PER    0.000000e+00  0.000000e+00  0.000000e+00  1.000000e+00  \n",
      "occp_cod__HP     0.000000e+00  0.000000e+00  1.000000e+00  1.000000e+00  \n",
      "occp_cod__LW     0.000000e+00  0.000000e+00  0.000000e+00  1.000000e+00  \n",
      "occp_cod__MD     0.000000e+00  0.000000e+00  1.000000e+00  1.000000e+00  \n",
      "occp_cod__PH     0.000000e+00  0.000000e+00  0.000000e+00  1.000000e+00  \n",
      "sex__M           0.000000e+00  0.000000e+00  1.000000e+00  1.000000e+00  \n",
      "sex__UNK         0.000000e+00  0.000000e+00  0.000000e+00  1.000000e+00  \n",
      "wt_lbs_mean      1.617795e+02  1.617795e+02  1.617795e+02  1.587725e+03  \n",
      "age_yrs_mean     5.300000e+01  5.590643e+01  6.557974e+01  1.200000e+02  \n",
      "Index(['primaryid', 'caseid', 'caseversion', 'event.dt1', 'mfr_dt',\n",
      "       'init_fda_dt', 'fda_dt', 'auth_num', 'mfr_num', 'mfr_sndr', 'lit_ref',\n",
      "       'age', 'age_cod', 'age_grp', 'e_sub', 'wt', 'wt_cod', 'rept.dt1',\n",
      "       'to_mfr', 'reporter_country', 'occr_country', 'outc_cod__CA',\n",
      "       'outc_cod__DE', 'outc_cod__DS', 'outc_cod__HO', 'outc_cod__LT',\n",
      "       'outc_cod__OT', 'outc_cod__RI', 'oc_cat__death', 'oc_cat__other',\n",
      "       'oc_cat__serious', 'n_outc', 'wt_lbs', 'age_yrs', 'i_f_code__I',\n",
      "       'rept_cod__5DAY', 'rept_cod__DIR', 'rept_cod__EXP', 'rept_cod__PER',\n",
      "       'occp_cod__HP', 'occp_cod__LW', 'occp_cod__MD', 'occp_cod__PH',\n",
      "       'sex__M', 'sex__UNK', 'wt_lbs_mean', 'age_yrs_mean'],\n",
      "      dtype='object')\n"
     ]
    }
   ],
   "source": [
    "# mean fill NA\n",
    "'''\n",
    "wt_lbs            161.779543\n",
    "age_yrs            55.906426\n",
    "'''\n",
    "df['wt_lbs_mean'] = np.where(pd.isnull(df['wt_lbs']),161.779543,df['wt_lbs'])  \n",
    "df['age_yrs_mean'] = np.where(pd.isnull(df['age_yrs']),55.906426,df['age_yrs'])  \n",
    "print('mean fill NA - wt_lbs & age_yrs')\n",
    "print(df.describe().T)\n",
    "print(df.columns)"
   ]
  },
  {
   "cell_type": "code",
   "execution_count": 43,
   "metadata": {
    "scrolled": false
   },
   "outputs": [
    {
     "name": "stdout",
     "output_type": "stream",
     "text": [
      "Index(['n_outc', 'i_f_code__I', 'rept_cod__5DAY', 'rept_cod__DIR',\n",
      "       'rept_cod__EXP', 'rept_cod__PER', 'occp_cod__HP', 'occp_cod__LW',\n",
      "       'occp_cod__MD', 'occp_cod__PH', 'sex__M', 'sex__UNK', 'wt_lbs_mean',\n",
      "       'age_yrs_mean'],\n",
      "      dtype='object')\n",
      "(260715, 14)\n",
      "(260715, 3)\n"
     ]
    }
   ],
   "source": [
    "### standarize features \n",
    "\n",
    "drop_cols = ['primaryid', 'caseid', 'caseversion', 'event.dt1', 'mfr_dt',\n",
    "       'init_fda_dt', 'fda_dt', 'auth_num', 'mfr_num', 'mfr_sndr', 'lit_ref',\n",
    "       'age', 'age_cod', 'age_grp', 'e_sub', 'wt', 'wt_cod', 'rept.dt1',\n",
    "       'to_mfr', 'reporter_country', 'occr_country', 'outc_cod__CA',\n",
    "       'outc_cod__DE', 'outc_cod__DS', 'outc_cod__HO', 'outc_cod__LT',\n",
    "       'outc_cod__OT', 'outc_cod__RI', 'oc_cat__death', 'oc_cat__other',\n",
    "       'oc_cat__serious', 'wt_lbs', 'age_yrs']\n",
    "\n",
    "inputs_mean = ['n_outc', 'wt_lbs_mean', 'age_yrs_mean', 'i_f_code__I', 'rept_cod__5DAY',\n",
    "               'rept_cod__DIR', 'rept_cod__EXP', 'rept_cod__PER', 'occp_cod__HP', \n",
    "               'occp_cod__LW', 'occp_cod__MD', 'occp_cod__PH', 'sex__M']\n",
    "\n",
    "X = df.drop(columns=drop_cols)\n",
    "print(X.columns)\n",
    "\n",
    "Xscaled = StandardScaler().fit_transform(X)\n",
    "print(Xscaled.shape)\n",
    "\n",
    "#X = pd.DataFrame(scaled, columns=inputs_mean)  #.reset_index()\n",
    "#print(X.describe().T,'\\n')\n",
    "\n",
    "#y_multilabel = np.c_[df['CA'], df['DE'], df['DS'], df['HO'], df['LT'], df['OT'], df['RI']]\n",
    "y_multilabel = np.c_[df['oc_cat__death'], df['oc_cat__other'], df['oc_cat__serious']]\n",
    "print(y_multilabel.shape)"
   ]
  },
  {
   "cell_type": "code",
   "execution_count": 44,
   "metadata": {},
   "outputs": [
    {
     "data": {
      "text/plain": [
       "KNeighborsClassifier(algorithm='auto', leaf_size=30, metric='minkowski',\n",
       "           metric_params=None, n_jobs=None, n_neighbors=5, p=2,\n",
       "           weights='uniform')"
      ]
     },
     "execution_count": 44,
     "metadata": {},
     "output_type": "execute_result"
    }
   ],
   "source": [
    "# test multilabel classifier\n",
    "knn_clf = KNeighborsClassifier()\n",
    "knn_clf.fit(Xscaled,y_multilabel)"
   ]
  },
  {
   "cell_type": "code",
   "execution_count": 45,
   "metadata": {},
   "outputs": [
    {
     "ename": "ValueError",
     "evalue": "multiclass-multioutput is not supported",
     "output_type": "error",
     "traceback": [
      "\u001b[0;31m---------------------------------------------------------------------------\u001b[0m",
      "\u001b[0;31mValueError\u001b[0m                                Traceback (most recent call last)",
      "\u001b[0;32m<ipython-input-45-0227fab5e75b>\u001b[0m in \u001b[0;36m<module>\u001b[0;34m()\u001b[0m\n\u001b[0;32m----> 1\u001b[0;31m \u001b[0mknn_clf\u001b[0m\u001b[0;34m.\u001b[0m\u001b[0mscore\u001b[0m\u001b[0;34m(\u001b[0m\u001b[0mXscaled\u001b[0m\u001b[0;34m,\u001b[0m\u001b[0my_multilabel\u001b[0m\u001b[0;34m)\u001b[0m\u001b[0;34m\u001b[0m\u001b[0;34m\u001b[0m\u001b[0m\n\u001b[0m",
      "\u001b[0;32m/usr/lib/python3/dist-packages/sklearn/base.py\u001b[0m in \u001b[0;36mscore\u001b[0;34m(self, X, y, sample_weight)\u001b[0m\n\u001b[1;32m    286\u001b[0m         \"\"\"\n\u001b[1;32m    287\u001b[0m         \u001b[0;32mfrom\u001b[0m \u001b[0;34m.\u001b[0m\u001b[0mmetrics\u001b[0m \u001b[0;32mimport\u001b[0m \u001b[0maccuracy_score\u001b[0m\u001b[0;34m\u001b[0m\u001b[0;34m\u001b[0m\u001b[0m\n\u001b[0;32m--> 288\u001b[0;31m         \u001b[0;32mreturn\u001b[0m \u001b[0maccuracy_score\u001b[0m\u001b[0;34m(\u001b[0m\u001b[0my\u001b[0m\u001b[0;34m,\u001b[0m \u001b[0mself\u001b[0m\u001b[0;34m.\u001b[0m\u001b[0mpredict\u001b[0m\u001b[0;34m(\u001b[0m\u001b[0mX\u001b[0m\u001b[0;34m)\u001b[0m\u001b[0;34m,\u001b[0m \u001b[0msample_weight\u001b[0m\u001b[0;34m=\u001b[0m\u001b[0msample_weight\u001b[0m\u001b[0;34m)\u001b[0m\u001b[0;34m\u001b[0m\u001b[0;34m\u001b[0m\u001b[0m\n\u001b[0m\u001b[1;32m    289\u001b[0m \u001b[0;34m\u001b[0m\u001b[0m\n\u001b[1;32m    290\u001b[0m \u001b[0;34m\u001b[0m\u001b[0m\n",
      "\u001b[0;32m/usr/lib/python3/dist-packages/sklearn/metrics/classification.py\u001b[0m in \u001b[0;36maccuracy_score\u001b[0;34m(y_true, y_pred, normalize, sample_weight)\u001b[0m\n\u001b[1;32m    174\u001b[0m \u001b[0;34m\u001b[0m\u001b[0m\n\u001b[1;32m    175\u001b[0m     \u001b[0;31m# Compute accuracy for each possible representation\u001b[0m\u001b[0;34m\u001b[0m\u001b[0;34m\u001b[0m\u001b[0;34m\u001b[0m\u001b[0m\n\u001b[0;32m--> 176\u001b[0;31m     \u001b[0my_type\u001b[0m\u001b[0;34m,\u001b[0m \u001b[0my_true\u001b[0m\u001b[0;34m,\u001b[0m \u001b[0my_pred\u001b[0m \u001b[0;34m=\u001b[0m \u001b[0m_check_targets\u001b[0m\u001b[0;34m(\u001b[0m\u001b[0my_true\u001b[0m\u001b[0;34m,\u001b[0m \u001b[0my_pred\u001b[0m\u001b[0;34m)\u001b[0m\u001b[0;34m\u001b[0m\u001b[0;34m\u001b[0m\u001b[0m\n\u001b[0m\u001b[1;32m    177\u001b[0m     \u001b[0mcheck_consistent_length\u001b[0m\u001b[0;34m(\u001b[0m\u001b[0my_true\u001b[0m\u001b[0;34m,\u001b[0m \u001b[0my_pred\u001b[0m\u001b[0;34m,\u001b[0m \u001b[0msample_weight\u001b[0m\u001b[0;34m)\u001b[0m\u001b[0;34m\u001b[0m\u001b[0;34m\u001b[0m\u001b[0m\n\u001b[1;32m    178\u001b[0m     \u001b[0;32mif\u001b[0m \u001b[0my_type\u001b[0m\u001b[0;34m.\u001b[0m\u001b[0mstartswith\u001b[0m\u001b[0;34m(\u001b[0m\u001b[0;34m'multilabel'\u001b[0m\u001b[0;34m)\u001b[0m\u001b[0;34m:\u001b[0m\u001b[0;34m\u001b[0m\u001b[0;34m\u001b[0m\u001b[0m\n",
      "\u001b[0;32m/usr/lib/python3/dist-packages/sklearn/metrics/classification.py\u001b[0m in \u001b[0;36m_check_targets\u001b[0;34m(y_true, y_pred)\u001b[0m\n\u001b[1;32m     86\u001b[0m     \u001b[0;31m# No metrics support \"multiclass-multioutput\" format\u001b[0m\u001b[0;34m\u001b[0m\u001b[0;34m\u001b[0m\u001b[0;34m\u001b[0m\u001b[0m\n\u001b[1;32m     87\u001b[0m     \u001b[0;32mif\u001b[0m \u001b[0;34m(\u001b[0m\u001b[0my_type\u001b[0m \u001b[0;32mnot\u001b[0m \u001b[0;32min\u001b[0m \u001b[0;34m[\u001b[0m\u001b[0;34m\"binary\"\u001b[0m\u001b[0;34m,\u001b[0m \u001b[0;34m\"multiclass\"\u001b[0m\u001b[0;34m,\u001b[0m \u001b[0;34m\"multilabel-indicator\"\u001b[0m\u001b[0;34m]\u001b[0m\u001b[0;34m)\u001b[0m\u001b[0;34m:\u001b[0m\u001b[0;34m\u001b[0m\u001b[0;34m\u001b[0m\u001b[0m\n\u001b[0;32m---> 88\u001b[0;31m         \u001b[0;32mraise\u001b[0m \u001b[0mValueError\u001b[0m\u001b[0;34m(\u001b[0m\u001b[0;34m\"{0} is not supported\"\u001b[0m\u001b[0;34m.\u001b[0m\u001b[0mformat\u001b[0m\u001b[0;34m(\u001b[0m\u001b[0my_type\u001b[0m\u001b[0;34m)\u001b[0m\u001b[0;34m)\u001b[0m\u001b[0;34m\u001b[0m\u001b[0;34m\u001b[0m\u001b[0m\n\u001b[0m\u001b[1;32m     89\u001b[0m \u001b[0;34m\u001b[0m\u001b[0m\n\u001b[1;32m     90\u001b[0m     \u001b[0;32mif\u001b[0m \u001b[0my_type\u001b[0m \u001b[0;32min\u001b[0m \u001b[0;34m[\u001b[0m\u001b[0;34m\"binary\"\u001b[0m\u001b[0;34m,\u001b[0m \u001b[0;34m\"multiclass\"\u001b[0m\u001b[0;34m]\u001b[0m\u001b[0;34m:\u001b[0m\u001b[0;34m\u001b[0m\u001b[0;34m\u001b[0m\u001b[0m\n",
      "\u001b[0;31mValueError\u001b[0m: multiclass-multioutput is not supported"
     ]
    }
   ],
   "source": [
    "knn_clf.score(Xscaled,y_multilabel)"
   ]
  },
  {
   "cell_type": "code",
   "execution_count": null,
   "metadata": {},
   "outputs": [],
   "source": [
    "# review sklean api - hamming_loss, jaccard_similarity_score, f1_score\n",
    "from sklearn.metrics import hamming_loss, jaccard_similarity_score\n",
    "pred_knn_multilabel = knn_clf.pred(Xscaled)\n",
    "f1_score(y_multilabel, pred_knn_multilabel, average='macro')"
   ]
  },
  {
   "cell_type": "markdown",
   "metadata": {},
   "source": [
    "# STOPPED HERE - 1.13.2021"
   ]
  },
  {
   "cell_type": "markdown",
   "metadata": {},
   "source": [
    "## ML Pipeline: Model Selection"
   ]
  },
  {
   "cell_type": "code",
   "execution_count": 38,
   "metadata": {},
   "outputs": [],
   "source": [
    "### define functions for evaluating each of 8 types of supervised learning algorithms\n",
    "\n",
    "def evaluate_model(predictors, targets, model, param_dict, passes=500):\n",
    "    \n",
    "    seed = int(round(random()*1000,0))\n",
    "    print(seed)\n",
    "    \n",
    "    # specify minimum test MSE, best hyperparameter set\n",
    "    test_err = []\n",
    "    min_test_err = 1e10\n",
    "    best_hyperparams = {}\n",
    "    # specify MSE predicted from the full dataset by the optimal model of each type with the best hyperparameter set\n",
    "    #full_y_err = None\n",
    "    full_err_mintesterr = None\n",
    "    full_err = []\n",
    "    # specify the final model returned\n",
    "    ret_model = None\n",
    "    \n",
    "    # define MSE as the statistic to determine goodness-of-fit - the smaller the better\n",
    "    scorer = make_scorer(mean_squared_error, greater_is_better=False)\n",
    "    \n",
    "    # split the data to a training-testing pair randomly by passes = n times\n",
    "    for i in range(passes):\n",
    "        print('Pass {}/{} for model {}'.format(i + 1, passes, model))\n",
    "        X_train, X_test, y_train, y_test = train_test_split(predictors, targets, test_size=0.3, random_state=(i+1)*seed )\n",
    "        \n",
    "        # 3-fold CV on a training set, and returns an optimal_model with the best_params_ fit\n",
    "        default_model = model()\n",
    "        model_gs = GridSearchCV(default_model, param_dict, cv=3, n_jobs=-1, verbose=0, scoring=scorer)  # n_jobs=16,\n",
    "        model_gs.fit(X_train, y_train)\n",
    "        optimal_model = model(**model_gs.best_params_)\n",
    "        optimal_model.fit(X_train, y_train)\n",
    "        \n",
    "        # use the optimal_model generated above to test in the testing set and yield an MSE\n",
    "        y_pred = optimal_model.predict(X_test)\n",
    "        err = mean_squared_error(y_test, y_pred)\n",
    "        test_err.extend([err]) \n",
    "        \n",
    "        # use the optimal_model generated above to be applied to the full data set and predict y to yield an MSE\n",
    "        full_y_pred=optimal_model.predict(predictors)\n",
    "        full_y_err = mean_squared_error(full_y_pred, y)\n",
    "        full_err.extend([full_y_err]) \n",
    "    \n",
    "        # look for the smallest MSE yield from the testing set, \n",
    "        # so the optimal model that meantimes yields the smallest MSE from the testing set can be considered as the final model of the type\n",
    "        #print('MSE for {}: {}'.format(model, err))\n",
    "        if err < min_test_err:\n",
    "            min_test_err = err\n",
    "            best_hyperparams = model_gs.best_params_\n",
    "            \n",
    "            full_err_mintesterr = full_y_err\n",
    "\n",
    "            # return the final model of the type\n",
    "            ret_model = optimal_model\n",
    "            \n",
    "    test_err_dist = pd.DataFrame(test_err, columns=[\"test_err\"]).describe()\n",
    "    full_err_dist = pd.DataFrame(full_err, columns=[\"full_err\"]).describe()\n",
    "    \n",
    "    print('Model {} with hyperparams {} yielded \\n\\ttest error {} with distribution \\n{} \\n\\\n",
    "    toverall error {} with distribution \\n{}'. \\\n",
    "          format(model, best_hyperparams, min_test_err, test_err_dist, full_err_mintesterr,full_err_dist))\n",
    "    return ret_model"
   ]
  },
  {
   "cell_type": "code",
   "execution_count": 34,
   "metadata": {},
   "outputs": [],
   "source": [
    "#%lsmagic"
   ]
  },
  {
   "cell_type": "code",
   "execution_count": 39,
   "metadata": {
    "scrolled": false
   },
   "outputs": [
    {
     "name": "stdout",
     "output_type": "stream",
     "text": [
      "988\n",
      "Pass 1/1 for model <class 'sklearn.ensemble.forest.RandomForestClassifier'>\n"
     ]
    },
    {
     "name": "stderr",
     "output_type": "stream",
     "text": [
      "exception calling callback for <Future at 0xaa978ef0 state=finished raised TerminatedWorkerError>\n",
      "Traceback (most recent call last):\n",
      "  File \"/usr/lib/python3/dist-packages/joblib/externals/loky/_base.py\", line 625, in _invoke_callbacks\n",
      "    callback(self)\n",
      "  File \"/usr/lib/python3/dist-packages/joblib/parallel.py\", line 309, in __call__\n",
      "    self.parallel.dispatch_next()\n",
      "  File \"/usr/lib/python3/dist-packages/joblib/parallel.py\", line 731, in dispatch_next\n",
      "    if not self.dispatch_one_batch(self._original_iterator):\n",
      "  File \"/usr/lib/python3/dist-packages/joblib/parallel.py\", line 759, in dispatch_one_batch\n",
      "    self._dispatch(tasks)\n",
      "  File \"/usr/lib/python3/dist-packages/joblib/parallel.py\", line 716, in _dispatch\n",
      "    job = self._backend.apply_async(batch, callback=cb)\n",
      "  File \"/usr/lib/python3/dist-packages/joblib/_parallel_backends.py\", line 510, in apply_async\n",
      "    future = self._workers.submit(SafeFunction(func))\n",
      "  File \"/usr/lib/python3/dist-packages/joblib/externals/loky/reusable_executor.py\", line 151, in submit\n",
      "    fn, *args, **kwargs)\n",
      "  File \"/usr/lib/python3/dist-packages/joblib/externals/loky/process_executor.py\", line 1022, in submit\n",
      "    raise self._flags.broken\n",
      "joblib.externals.loky.process_executor.TerminatedWorkerError: A worker process managed by the executor was unexpectedly terminated. This could be caused by a segmentation fault while calling the function or by an excessive memory usage causing the Operating System to kill the worker. The exit codes of the workers are {SIGBUS(-7)}\n"
     ]
    },
    {
     "ename": "TerminatedWorkerError",
     "evalue": "A worker process managed by the executor was unexpectedly terminated. This could be caused by a segmentation fault while calling the function or by an excessive memory usage causing the Operating System to kill the worker. The exit codes of the workers are {SIGBUS(-7)}",
     "output_type": "error",
     "traceback": [
      "\u001b[0;31m---------------------------------------------------------------------------\u001b[0m",
      "\u001b[0;31mTerminatedWorkerError\u001b[0m                     Traceback (most recent call last)",
      "\u001b[0;32m<ipython-input-39-925314055e99>\u001b[0m in \u001b[0;36m<module>\u001b[0;34m()\u001b[0m\n\u001b[1;32m      6\u001b[0m                            \u001b[0;34m'min_samples_leaf'\u001b[0m\u001b[0;34m:\u001b[0m \u001b[0;34m[\u001b[0m\u001b[0;36m2\u001b[0m\u001b[0;34m,\u001b[0m\u001b[0;36m3\u001b[0m\u001b[0;34m]\u001b[0m\u001b[0;34m,\u001b[0m\u001b[0;34m\u001b[0m\u001b[0;34m\u001b[0m\u001b[0m\n\u001b[1;32m      7\u001b[0m                            \u001b[0;34m'min_samples_split'\u001b[0m\u001b[0;34m:\u001b[0m \u001b[0;34m[\u001b[0m\u001b[0;36m2\u001b[0m\u001b[0;34m,\u001b[0m \u001b[0;36m3\u001b[0m\u001b[0;34m,\u001b[0m \u001b[0;36m4\u001b[0m\u001b[0;34m]\u001b[0m\u001b[0;34m,\u001b[0m\u001b[0;34m\u001b[0m\u001b[0;34m\u001b[0m\u001b[0m\n\u001b[0;32m----> 8\u001b[0;31m                            'max_features' : ['auto', 'sqrt', 'log2']}, passes=1)  # 250)\n\u001b[0m",
      "\u001b[0;32m<ipython-input-38-41dff25a85b9>\u001b[0m in \u001b[0;36mevaluate_model\u001b[0;34m(predictors, targets, model, param_dict, passes)\u001b[0m\n\u001b[1;32m     28\u001b[0m         \u001b[0mdefault_model\u001b[0m \u001b[0;34m=\u001b[0m \u001b[0mmodel\u001b[0m\u001b[0;34m(\u001b[0m\u001b[0;34m)\u001b[0m\u001b[0;34m\u001b[0m\u001b[0;34m\u001b[0m\u001b[0m\n\u001b[1;32m     29\u001b[0m         \u001b[0mmodel_gs\u001b[0m \u001b[0;34m=\u001b[0m \u001b[0mGridSearchCV\u001b[0m\u001b[0;34m(\u001b[0m\u001b[0mdefault_model\u001b[0m\u001b[0;34m,\u001b[0m \u001b[0mparam_dict\u001b[0m\u001b[0;34m,\u001b[0m \u001b[0mcv\u001b[0m\u001b[0;34m=\u001b[0m\u001b[0;36m3\u001b[0m\u001b[0;34m,\u001b[0m \u001b[0mn_jobs\u001b[0m\u001b[0;34m=\u001b[0m\u001b[0;34m-\u001b[0m\u001b[0;36m1\u001b[0m\u001b[0;34m,\u001b[0m \u001b[0mverbose\u001b[0m\u001b[0;34m=\u001b[0m\u001b[0;36m0\u001b[0m\u001b[0;34m,\u001b[0m \u001b[0mscoring\u001b[0m\u001b[0;34m=\u001b[0m\u001b[0mscorer\u001b[0m\u001b[0;34m)\u001b[0m  \u001b[0;31m# n_jobs=16,\u001b[0m\u001b[0;34m\u001b[0m\u001b[0;34m\u001b[0m\u001b[0m\n\u001b[0;32m---> 30\u001b[0;31m         \u001b[0mmodel_gs\u001b[0m\u001b[0;34m.\u001b[0m\u001b[0mfit\u001b[0m\u001b[0;34m(\u001b[0m\u001b[0mX_train\u001b[0m\u001b[0;34m,\u001b[0m \u001b[0my_train\u001b[0m\u001b[0;34m)\u001b[0m\u001b[0;34m\u001b[0m\u001b[0;34m\u001b[0m\u001b[0m\n\u001b[0m\u001b[1;32m     31\u001b[0m         \u001b[0moptimal_model\u001b[0m \u001b[0;34m=\u001b[0m \u001b[0mmodel\u001b[0m\u001b[0;34m(\u001b[0m\u001b[0;34m**\u001b[0m\u001b[0mmodel_gs\u001b[0m\u001b[0;34m.\u001b[0m\u001b[0mbest_params_\u001b[0m\u001b[0;34m)\u001b[0m\u001b[0;34m\u001b[0m\u001b[0;34m\u001b[0m\u001b[0m\n\u001b[1;32m     32\u001b[0m         \u001b[0moptimal_model\u001b[0m\u001b[0;34m.\u001b[0m\u001b[0mfit\u001b[0m\u001b[0;34m(\u001b[0m\u001b[0mX_train\u001b[0m\u001b[0;34m,\u001b[0m \u001b[0my_train\u001b[0m\u001b[0;34m)\u001b[0m\u001b[0;34m\u001b[0m\u001b[0;34m\u001b[0m\u001b[0m\n",
      "\u001b[0;32m/usr/lib/python3/dist-packages/sklearn/model_selection/_search.py\u001b[0m in \u001b[0;36mfit\u001b[0;34m(self, X, y, groups, **fit_params)\u001b[0m\n\u001b[1;32m    720\u001b[0m                 \u001b[0;32mreturn\u001b[0m \u001b[0mresults_container\u001b[0m\u001b[0;34m[\u001b[0m\u001b[0;36m0\u001b[0m\u001b[0;34m]\u001b[0m\u001b[0;34m\u001b[0m\u001b[0;34m\u001b[0m\u001b[0m\n\u001b[1;32m    721\u001b[0m \u001b[0;34m\u001b[0m\u001b[0m\n\u001b[0;32m--> 722\u001b[0;31m             \u001b[0mself\u001b[0m\u001b[0;34m.\u001b[0m\u001b[0m_run_search\u001b[0m\u001b[0;34m(\u001b[0m\u001b[0mevaluate_candidates\u001b[0m\u001b[0;34m)\u001b[0m\u001b[0;34m\u001b[0m\u001b[0;34m\u001b[0m\u001b[0m\n\u001b[0m\u001b[1;32m    723\u001b[0m \u001b[0;34m\u001b[0m\u001b[0m\n\u001b[1;32m    724\u001b[0m         \u001b[0mresults\u001b[0m \u001b[0;34m=\u001b[0m \u001b[0mresults_container\u001b[0m\u001b[0;34m[\u001b[0m\u001b[0;36m0\u001b[0m\u001b[0;34m]\u001b[0m\u001b[0;34m\u001b[0m\u001b[0;34m\u001b[0m\u001b[0m\n",
      "\u001b[0;32m/usr/lib/python3/dist-packages/sklearn/model_selection/_search.py\u001b[0m in \u001b[0;36m_run_search\u001b[0;34m(self, evaluate_candidates)\u001b[0m\n\u001b[1;32m   1189\u001b[0m     \u001b[0;32mdef\u001b[0m \u001b[0m_run_search\u001b[0m\u001b[0;34m(\u001b[0m\u001b[0mself\u001b[0m\u001b[0;34m,\u001b[0m \u001b[0mevaluate_candidates\u001b[0m\u001b[0;34m)\u001b[0m\u001b[0;34m:\u001b[0m\u001b[0;34m\u001b[0m\u001b[0;34m\u001b[0m\u001b[0m\n\u001b[1;32m   1190\u001b[0m         \u001b[0;34m\"\"\"Search all candidates in param_grid\"\"\"\u001b[0m\u001b[0;34m\u001b[0m\u001b[0;34m\u001b[0m\u001b[0m\n\u001b[0;32m-> 1191\u001b[0;31m         \u001b[0mevaluate_candidates\u001b[0m\u001b[0;34m(\u001b[0m\u001b[0mParameterGrid\u001b[0m\u001b[0;34m(\u001b[0m\u001b[0mself\u001b[0m\u001b[0;34m.\u001b[0m\u001b[0mparam_grid\u001b[0m\u001b[0;34m)\u001b[0m\u001b[0;34m)\u001b[0m\u001b[0;34m\u001b[0m\u001b[0;34m\u001b[0m\u001b[0m\n\u001b[0m\u001b[1;32m   1192\u001b[0m \u001b[0;34m\u001b[0m\u001b[0m\n\u001b[1;32m   1193\u001b[0m \u001b[0;34m\u001b[0m\u001b[0m\n",
      "\u001b[0;32m/usr/lib/python3/dist-packages/sklearn/model_selection/_search.py\u001b[0m in \u001b[0;36mevaluate_candidates\u001b[0;34m(candidate_params)\u001b[0m\n\u001b[1;32m    709\u001b[0m                                \u001b[0;32mfor\u001b[0m \u001b[0mparameters\u001b[0m\u001b[0;34m,\u001b[0m \u001b[0;34m(\u001b[0m\u001b[0mtrain\u001b[0m\u001b[0;34m,\u001b[0m \u001b[0mtest\u001b[0m\u001b[0;34m)\u001b[0m\u001b[0;34m\u001b[0m\u001b[0;34m\u001b[0m\u001b[0m\n\u001b[1;32m    710\u001b[0m                                in product(candidate_params,\n\u001b[0;32m--> 711\u001b[0;31m                                           cv.split(X, y, groups)))\n\u001b[0m\u001b[1;32m    712\u001b[0m \u001b[0;34m\u001b[0m\u001b[0m\n\u001b[1;32m    713\u001b[0m                 \u001b[0mall_candidate_params\u001b[0m\u001b[0;34m.\u001b[0m\u001b[0mextend\u001b[0m\u001b[0;34m(\u001b[0m\u001b[0mcandidate_params\u001b[0m\u001b[0;34m)\u001b[0m\u001b[0;34m\u001b[0m\u001b[0;34m\u001b[0m\u001b[0m\n",
      "\u001b[0;32m/usr/lib/python3/dist-packages/joblib/parallel.py\u001b[0m in \u001b[0;36m__call__\u001b[0;34m(self, iterable)\u001b[0m\n\u001b[1;32m    928\u001b[0m \u001b[0;34m\u001b[0m\u001b[0m\n\u001b[1;32m    929\u001b[0m             \u001b[0;32mwith\u001b[0m \u001b[0mself\u001b[0m\u001b[0;34m.\u001b[0m\u001b[0m_backend\u001b[0m\u001b[0;34m.\u001b[0m\u001b[0mretrieval_context\u001b[0m\u001b[0;34m(\u001b[0m\u001b[0;34m)\u001b[0m\u001b[0;34m:\u001b[0m\u001b[0;34m\u001b[0m\u001b[0;34m\u001b[0m\u001b[0m\n\u001b[0;32m--> 930\u001b[0;31m                 \u001b[0mself\u001b[0m\u001b[0;34m.\u001b[0m\u001b[0mretrieve\u001b[0m\u001b[0;34m(\u001b[0m\u001b[0;34m)\u001b[0m\u001b[0;34m\u001b[0m\u001b[0;34m\u001b[0m\u001b[0m\n\u001b[0m\u001b[1;32m    931\u001b[0m             \u001b[0;31m# Make sure that we get a last message telling us we are done\u001b[0m\u001b[0;34m\u001b[0m\u001b[0;34m\u001b[0m\u001b[0;34m\u001b[0m\u001b[0m\n\u001b[1;32m    932\u001b[0m             \u001b[0melapsed_time\u001b[0m \u001b[0;34m=\u001b[0m \u001b[0mtime\u001b[0m\u001b[0;34m.\u001b[0m\u001b[0mtime\u001b[0m\u001b[0;34m(\u001b[0m\u001b[0;34m)\u001b[0m \u001b[0;34m-\u001b[0m \u001b[0mself\u001b[0m\u001b[0;34m.\u001b[0m\u001b[0m_start_time\u001b[0m\u001b[0;34m\u001b[0m\u001b[0;34m\u001b[0m\u001b[0m\n",
      "\u001b[0;32m/usr/lib/python3/dist-packages/joblib/parallel.py\u001b[0m in \u001b[0;36mretrieve\u001b[0;34m(self)\u001b[0m\n\u001b[1;32m    831\u001b[0m             \u001b[0;32mtry\u001b[0m\u001b[0;34m:\u001b[0m\u001b[0;34m\u001b[0m\u001b[0;34m\u001b[0m\u001b[0m\n\u001b[1;32m    832\u001b[0m                 \u001b[0;32mif\u001b[0m \u001b[0mgetattr\u001b[0m\u001b[0;34m(\u001b[0m\u001b[0mself\u001b[0m\u001b[0;34m.\u001b[0m\u001b[0m_backend\u001b[0m\u001b[0;34m,\u001b[0m \u001b[0;34m'supports_timeout'\u001b[0m\u001b[0;34m,\u001b[0m \u001b[0;32mFalse\u001b[0m\u001b[0;34m)\u001b[0m\u001b[0;34m:\u001b[0m\u001b[0;34m\u001b[0m\u001b[0;34m\u001b[0m\u001b[0m\n\u001b[0;32m--> 833\u001b[0;31m                     \u001b[0mself\u001b[0m\u001b[0;34m.\u001b[0m\u001b[0m_output\u001b[0m\u001b[0;34m.\u001b[0m\u001b[0mextend\u001b[0m\u001b[0;34m(\u001b[0m\u001b[0mjob\u001b[0m\u001b[0;34m.\u001b[0m\u001b[0mget\u001b[0m\u001b[0;34m(\u001b[0m\u001b[0mtimeout\u001b[0m\u001b[0;34m=\u001b[0m\u001b[0mself\u001b[0m\u001b[0;34m.\u001b[0m\u001b[0mtimeout\u001b[0m\u001b[0;34m)\u001b[0m\u001b[0;34m)\u001b[0m\u001b[0;34m\u001b[0m\u001b[0;34m\u001b[0m\u001b[0m\n\u001b[0m\u001b[1;32m    834\u001b[0m                 \u001b[0;32melse\u001b[0m\u001b[0;34m:\u001b[0m\u001b[0;34m\u001b[0m\u001b[0;34m\u001b[0m\u001b[0m\n\u001b[1;32m    835\u001b[0m                     \u001b[0mself\u001b[0m\u001b[0;34m.\u001b[0m\u001b[0m_output\u001b[0m\u001b[0;34m.\u001b[0m\u001b[0mextend\u001b[0m\u001b[0;34m(\u001b[0m\u001b[0mjob\u001b[0m\u001b[0;34m.\u001b[0m\u001b[0mget\u001b[0m\u001b[0;34m(\u001b[0m\u001b[0;34m)\u001b[0m\u001b[0;34m)\u001b[0m\u001b[0;34m\u001b[0m\u001b[0;34m\u001b[0m\u001b[0m\n",
      "\u001b[0;32m/usr/lib/python3/dist-packages/joblib/_parallel_backends.py\u001b[0m in \u001b[0;36mwrap_future_result\u001b[0;34m(future, timeout)\u001b[0m\n\u001b[1;32m    519\u001b[0m         AsyncResults.get from multiprocessing.\"\"\"\n\u001b[1;32m    520\u001b[0m         \u001b[0;32mtry\u001b[0m\u001b[0;34m:\u001b[0m\u001b[0;34m\u001b[0m\u001b[0;34m\u001b[0m\u001b[0m\n\u001b[0;32m--> 521\u001b[0;31m             \u001b[0;32mreturn\u001b[0m \u001b[0mfuture\u001b[0m\u001b[0;34m.\u001b[0m\u001b[0mresult\u001b[0m\u001b[0;34m(\u001b[0m\u001b[0mtimeout\u001b[0m\u001b[0;34m=\u001b[0m\u001b[0mtimeout\u001b[0m\u001b[0;34m)\u001b[0m\u001b[0;34m\u001b[0m\u001b[0;34m\u001b[0m\u001b[0m\n\u001b[0m\u001b[1;32m    522\u001b[0m         \u001b[0;32mexcept\u001b[0m \u001b[0mLokyTimeoutError\u001b[0m\u001b[0;34m:\u001b[0m\u001b[0;34m\u001b[0m\u001b[0;34m\u001b[0m\u001b[0m\n\u001b[1;32m    523\u001b[0m             \u001b[0;32mraise\u001b[0m \u001b[0mTimeoutError\u001b[0m\u001b[0;34m(\u001b[0m\u001b[0;34m)\u001b[0m\u001b[0;34m\u001b[0m\u001b[0;34m\u001b[0m\u001b[0m\n",
      "\u001b[0;32m/usr/lib/python3.7/concurrent/futures/_base.py\u001b[0m in \u001b[0;36mresult\u001b[0;34m(self, timeout)\u001b[0m\n\u001b[1;32m    430\u001b[0m                 \u001b[0;32mraise\u001b[0m \u001b[0mCancelledError\u001b[0m\u001b[0;34m(\u001b[0m\u001b[0;34m)\u001b[0m\u001b[0;34m\u001b[0m\u001b[0;34m\u001b[0m\u001b[0m\n\u001b[1;32m    431\u001b[0m             \u001b[0;32melif\u001b[0m \u001b[0mself\u001b[0m\u001b[0;34m.\u001b[0m\u001b[0m_state\u001b[0m \u001b[0;34m==\u001b[0m \u001b[0mFINISHED\u001b[0m\u001b[0;34m:\u001b[0m\u001b[0;34m\u001b[0m\u001b[0;34m\u001b[0m\u001b[0m\n\u001b[0;32m--> 432\u001b[0;31m                 \u001b[0;32mreturn\u001b[0m \u001b[0mself\u001b[0m\u001b[0;34m.\u001b[0m\u001b[0m__get_result\u001b[0m\u001b[0;34m(\u001b[0m\u001b[0;34m)\u001b[0m\u001b[0;34m\u001b[0m\u001b[0;34m\u001b[0m\u001b[0m\n\u001b[0m\u001b[1;32m    433\u001b[0m             \u001b[0;32melse\u001b[0m\u001b[0;34m:\u001b[0m\u001b[0;34m\u001b[0m\u001b[0;34m\u001b[0m\u001b[0m\n\u001b[1;32m    434\u001b[0m                 \u001b[0;32mraise\u001b[0m \u001b[0mTimeoutError\u001b[0m\u001b[0;34m(\u001b[0m\u001b[0;34m)\u001b[0m\u001b[0;34m\u001b[0m\u001b[0;34m\u001b[0m\u001b[0m\n",
      "\u001b[0;32m/usr/lib/python3.7/concurrent/futures/_base.py\u001b[0m in \u001b[0;36m__get_result\u001b[0;34m(self)\u001b[0m\n\u001b[1;32m    382\u001b[0m     \u001b[0;32mdef\u001b[0m \u001b[0m__get_result\u001b[0m\u001b[0;34m(\u001b[0m\u001b[0mself\u001b[0m\u001b[0;34m)\u001b[0m\u001b[0;34m:\u001b[0m\u001b[0;34m\u001b[0m\u001b[0;34m\u001b[0m\u001b[0m\n\u001b[1;32m    383\u001b[0m         \u001b[0;32mif\u001b[0m \u001b[0mself\u001b[0m\u001b[0;34m.\u001b[0m\u001b[0m_exception\u001b[0m\u001b[0;34m:\u001b[0m\u001b[0;34m\u001b[0m\u001b[0;34m\u001b[0m\u001b[0m\n\u001b[0;32m--> 384\u001b[0;31m             \u001b[0;32mraise\u001b[0m \u001b[0mself\u001b[0m\u001b[0;34m.\u001b[0m\u001b[0m_exception\u001b[0m\u001b[0;34m\u001b[0m\u001b[0;34m\u001b[0m\u001b[0m\n\u001b[0m\u001b[1;32m    385\u001b[0m         \u001b[0;32melse\u001b[0m\u001b[0;34m:\u001b[0m\u001b[0;34m\u001b[0m\u001b[0;34m\u001b[0m\u001b[0m\n\u001b[1;32m    386\u001b[0m             \u001b[0;32mreturn\u001b[0m \u001b[0mself\u001b[0m\u001b[0;34m.\u001b[0m\u001b[0m_result\u001b[0m\u001b[0;34m\u001b[0m\u001b[0;34m\u001b[0m\u001b[0m\n",
      "\u001b[0;32m/usr/lib/python3/dist-packages/joblib/externals/loky/_base.py\u001b[0m in \u001b[0;36m_invoke_callbacks\u001b[0;34m(self)\u001b[0m\n\u001b[1;32m    623\u001b[0m         \u001b[0;32mfor\u001b[0m \u001b[0mcallback\u001b[0m \u001b[0;32min\u001b[0m \u001b[0mself\u001b[0m\u001b[0;34m.\u001b[0m\u001b[0m_done_callbacks\u001b[0m\u001b[0;34m:\u001b[0m\u001b[0;34m\u001b[0m\u001b[0;34m\u001b[0m\u001b[0m\n\u001b[1;32m    624\u001b[0m             \u001b[0;32mtry\u001b[0m\u001b[0;34m:\u001b[0m\u001b[0;34m\u001b[0m\u001b[0;34m\u001b[0m\u001b[0m\n\u001b[0;32m--> 625\u001b[0;31m                 \u001b[0mcallback\u001b[0m\u001b[0;34m(\u001b[0m\u001b[0mself\u001b[0m\u001b[0;34m)\u001b[0m\u001b[0;34m\u001b[0m\u001b[0;34m\u001b[0m\u001b[0m\n\u001b[0m\u001b[1;32m    626\u001b[0m             \u001b[0;32mexcept\u001b[0m \u001b[0mBaseException\u001b[0m\u001b[0;34m:\u001b[0m\u001b[0;34m\u001b[0m\u001b[0;34m\u001b[0m\u001b[0m\n\u001b[1;32m    627\u001b[0m                 \u001b[0mLOGGER\u001b[0m\u001b[0;34m.\u001b[0m\u001b[0mexception\u001b[0m\u001b[0;34m(\u001b[0m\u001b[0;34m'exception calling callback for %r'\u001b[0m\u001b[0;34m,\u001b[0m \u001b[0mself\u001b[0m\u001b[0;34m)\u001b[0m\u001b[0;34m\u001b[0m\u001b[0;34m\u001b[0m\u001b[0m\n",
      "\u001b[0;32m/usr/lib/python3/dist-packages/joblib/parallel.py\u001b[0m in \u001b[0;36m__call__\u001b[0;34m(self, out)\u001b[0m\n\u001b[1;32m    307\u001b[0m         \u001b[0;32mwith\u001b[0m \u001b[0mself\u001b[0m\u001b[0;34m.\u001b[0m\u001b[0mparallel\u001b[0m\u001b[0;34m.\u001b[0m\u001b[0m_lock\u001b[0m\u001b[0;34m:\u001b[0m\u001b[0;34m\u001b[0m\u001b[0;34m\u001b[0m\u001b[0m\n\u001b[1;32m    308\u001b[0m             \u001b[0;32mif\u001b[0m \u001b[0mself\u001b[0m\u001b[0;34m.\u001b[0m\u001b[0mparallel\u001b[0m\u001b[0;34m.\u001b[0m\u001b[0m_original_iterator\u001b[0m \u001b[0;32mis\u001b[0m \u001b[0;32mnot\u001b[0m \u001b[0;32mNone\u001b[0m\u001b[0;34m:\u001b[0m\u001b[0;34m\u001b[0m\u001b[0;34m\u001b[0m\u001b[0m\n\u001b[0;32m--> 309\u001b[0;31m                 \u001b[0mself\u001b[0m\u001b[0;34m.\u001b[0m\u001b[0mparallel\u001b[0m\u001b[0;34m.\u001b[0m\u001b[0mdispatch_next\u001b[0m\u001b[0;34m(\u001b[0m\u001b[0;34m)\u001b[0m\u001b[0;34m\u001b[0m\u001b[0;34m\u001b[0m\u001b[0m\n\u001b[0m\u001b[1;32m    310\u001b[0m \u001b[0;34m\u001b[0m\u001b[0m\n\u001b[1;32m    311\u001b[0m \u001b[0;34m\u001b[0m\u001b[0m\n",
      "\u001b[0;32m/usr/lib/python3/dist-packages/joblib/parallel.py\u001b[0m in \u001b[0;36mdispatch_next\u001b[0;34m(self)\u001b[0m\n\u001b[1;32m    729\u001b[0m \u001b[0;34m\u001b[0m\u001b[0m\n\u001b[1;32m    730\u001b[0m         \"\"\"\n\u001b[0;32m--> 731\u001b[0;31m         \u001b[0;32mif\u001b[0m \u001b[0;32mnot\u001b[0m \u001b[0mself\u001b[0m\u001b[0;34m.\u001b[0m\u001b[0mdispatch_one_batch\u001b[0m\u001b[0;34m(\u001b[0m\u001b[0mself\u001b[0m\u001b[0;34m.\u001b[0m\u001b[0m_original_iterator\u001b[0m\u001b[0;34m)\u001b[0m\u001b[0;34m:\u001b[0m\u001b[0;34m\u001b[0m\u001b[0;34m\u001b[0m\u001b[0m\n\u001b[0m\u001b[1;32m    732\u001b[0m             \u001b[0mself\u001b[0m\u001b[0;34m.\u001b[0m\u001b[0m_iterating\u001b[0m \u001b[0;34m=\u001b[0m \u001b[0;32mFalse\u001b[0m\u001b[0;34m\u001b[0m\u001b[0;34m\u001b[0m\u001b[0m\n\u001b[1;32m    733\u001b[0m             \u001b[0mself\u001b[0m\u001b[0;34m.\u001b[0m\u001b[0m_original_iterator\u001b[0m \u001b[0;34m=\u001b[0m \u001b[0;32mNone\u001b[0m\u001b[0;34m\u001b[0m\u001b[0;34m\u001b[0m\u001b[0m\n",
      "\u001b[0;32m/usr/lib/python3/dist-packages/joblib/parallel.py\u001b[0m in \u001b[0;36mdispatch_one_batch\u001b[0;34m(self, iterator)\u001b[0m\n\u001b[1;32m    757\u001b[0m                 \u001b[0;32mreturn\u001b[0m \u001b[0;32mFalse\u001b[0m\u001b[0;34m\u001b[0m\u001b[0;34m\u001b[0m\u001b[0m\n\u001b[1;32m    758\u001b[0m             \u001b[0;32melse\u001b[0m\u001b[0;34m:\u001b[0m\u001b[0;34m\u001b[0m\u001b[0;34m\u001b[0m\u001b[0m\n\u001b[0;32m--> 759\u001b[0;31m                 \u001b[0mself\u001b[0m\u001b[0;34m.\u001b[0m\u001b[0m_dispatch\u001b[0m\u001b[0;34m(\u001b[0m\u001b[0mtasks\u001b[0m\u001b[0;34m)\u001b[0m\u001b[0;34m\u001b[0m\u001b[0;34m\u001b[0m\u001b[0m\n\u001b[0m\u001b[1;32m    760\u001b[0m                 \u001b[0;32mreturn\u001b[0m \u001b[0;32mTrue\u001b[0m\u001b[0;34m\u001b[0m\u001b[0;34m\u001b[0m\u001b[0m\n\u001b[1;32m    761\u001b[0m \u001b[0;34m\u001b[0m\u001b[0m\n",
      "\u001b[0;32m/usr/lib/python3/dist-packages/joblib/parallel.py\u001b[0m in \u001b[0;36m_dispatch\u001b[0;34m(self, batch)\u001b[0m\n\u001b[1;32m    714\u001b[0m         \u001b[0;32mwith\u001b[0m \u001b[0mself\u001b[0m\u001b[0;34m.\u001b[0m\u001b[0m_lock\u001b[0m\u001b[0;34m:\u001b[0m\u001b[0;34m\u001b[0m\u001b[0;34m\u001b[0m\u001b[0m\n\u001b[1;32m    715\u001b[0m             \u001b[0mjob_idx\u001b[0m \u001b[0;34m=\u001b[0m \u001b[0mlen\u001b[0m\u001b[0;34m(\u001b[0m\u001b[0mself\u001b[0m\u001b[0;34m.\u001b[0m\u001b[0m_jobs\u001b[0m\u001b[0;34m)\u001b[0m\u001b[0;34m\u001b[0m\u001b[0;34m\u001b[0m\u001b[0m\n\u001b[0;32m--> 716\u001b[0;31m             \u001b[0mjob\u001b[0m \u001b[0;34m=\u001b[0m \u001b[0mself\u001b[0m\u001b[0;34m.\u001b[0m\u001b[0m_backend\u001b[0m\u001b[0;34m.\u001b[0m\u001b[0mapply_async\u001b[0m\u001b[0;34m(\u001b[0m\u001b[0mbatch\u001b[0m\u001b[0;34m,\u001b[0m \u001b[0mcallback\u001b[0m\u001b[0;34m=\u001b[0m\u001b[0mcb\u001b[0m\u001b[0;34m)\u001b[0m\u001b[0;34m\u001b[0m\u001b[0;34m\u001b[0m\u001b[0m\n\u001b[0m\u001b[1;32m    717\u001b[0m             \u001b[0;31m# A job can complete so quickly than its callback is\u001b[0m\u001b[0;34m\u001b[0m\u001b[0;34m\u001b[0m\u001b[0;34m\u001b[0m\u001b[0m\n\u001b[1;32m    718\u001b[0m             \u001b[0;31m# called before we get here, causing self._jobs to\u001b[0m\u001b[0;34m\u001b[0m\u001b[0;34m\u001b[0m\u001b[0;34m\u001b[0m\u001b[0m\n",
      "\u001b[0;32m/usr/lib/python3/dist-packages/joblib/_parallel_backends.py\u001b[0m in \u001b[0;36mapply_async\u001b[0;34m(self, func, callback)\u001b[0m\n\u001b[1;32m    508\u001b[0m     \u001b[0;32mdef\u001b[0m \u001b[0mapply_async\u001b[0m\u001b[0;34m(\u001b[0m\u001b[0mself\u001b[0m\u001b[0;34m,\u001b[0m \u001b[0mfunc\u001b[0m\u001b[0;34m,\u001b[0m \u001b[0mcallback\u001b[0m\u001b[0;34m=\u001b[0m\u001b[0;32mNone\u001b[0m\u001b[0;34m)\u001b[0m\u001b[0;34m:\u001b[0m\u001b[0;34m\u001b[0m\u001b[0;34m\u001b[0m\u001b[0m\n\u001b[1;32m    509\u001b[0m         \u001b[0;34m\"\"\"Schedule a func to be run\"\"\"\u001b[0m\u001b[0;34m\u001b[0m\u001b[0;34m\u001b[0m\u001b[0m\n\u001b[0;32m--> 510\u001b[0;31m         \u001b[0mfuture\u001b[0m \u001b[0;34m=\u001b[0m \u001b[0mself\u001b[0m\u001b[0;34m.\u001b[0m\u001b[0m_workers\u001b[0m\u001b[0;34m.\u001b[0m\u001b[0msubmit\u001b[0m\u001b[0;34m(\u001b[0m\u001b[0mSafeFunction\u001b[0m\u001b[0;34m(\u001b[0m\u001b[0mfunc\u001b[0m\u001b[0;34m)\u001b[0m\u001b[0;34m)\u001b[0m\u001b[0;34m\u001b[0m\u001b[0;34m\u001b[0m\u001b[0m\n\u001b[0m\u001b[1;32m    511\u001b[0m         \u001b[0mfuture\u001b[0m\u001b[0;34m.\u001b[0m\u001b[0mget\u001b[0m \u001b[0;34m=\u001b[0m \u001b[0mfunctools\u001b[0m\u001b[0;34m.\u001b[0m\u001b[0mpartial\u001b[0m\u001b[0;34m(\u001b[0m\u001b[0mself\u001b[0m\u001b[0;34m.\u001b[0m\u001b[0mwrap_future_result\u001b[0m\u001b[0;34m,\u001b[0m \u001b[0mfuture\u001b[0m\u001b[0;34m)\u001b[0m\u001b[0;34m\u001b[0m\u001b[0;34m\u001b[0m\u001b[0m\n\u001b[1;32m    512\u001b[0m         \u001b[0;32mif\u001b[0m \u001b[0mcallback\u001b[0m \u001b[0;32mis\u001b[0m \u001b[0;32mnot\u001b[0m \u001b[0;32mNone\u001b[0m\u001b[0;34m:\u001b[0m\u001b[0;34m\u001b[0m\u001b[0;34m\u001b[0m\u001b[0m\n",
      "\u001b[0;32m/usr/lib/python3/dist-packages/joblib/externals/loky/reusable_executor.py\u001b[0m in \u001b[0;36msubmit\u001b[0;34m(self, fn, *args, **kwargs)\u001b[0m\n\u001b[1;32m    149\u001b[0m         \u001b[0;32mwith\u001b[0m \u001b[0mself\u001b[0m\u001b[0;34m.\u001b[0m\u001b[0m_submit_resize_lock\u001b[0m\u001b[0;34m:\u001b[0m\u001b[0;34m\u001b[0m\u001b[0;34m\u001b[0m\u001b[0m\n\u001b[1;32m    150\u001b[0m             return super(_ReusablePoolExecutor, self).submit(\n\u001b[0;32m--> 151\u001b[0;31m                 fn, *args, **kwargs)\n\u001b[0m\u001b[1;32m    152\u001b[0m \u001b[0;34m\u001b[0m\u001b[0m\n\u001b[1;32m    153\u001b[0m     \u001b[0;32mdef\u001b[0m \u001b[0m_resize\u001b[0m\u001b[0;34m(\u001b[0m\u001b[0mself\u001b[0m\u001b[0;34m,\u001b[0m \u001b[0mmax_workers\u001b[0m\u001b[0;34m)\u001b[0m\u001b[0;34m:\u001b[0m\u001b[0;34m\u001b[0m\u001b[0;34m\u001b[0m\u001b[0m\n",
      "\u001b[0;32m/usr/lib/python3/dist-packages/joblib/externals/loky/process_executor.py\u001b[0m in \u001b[0;36msubmit\u001b[0;34m(self, fn, *args, **kwargs)\u001b[0m\n\u001b[1;32m   1020\u001b[0m         \u001b[0;32mwith\u001b[0m \u001b[0mself\u001b[0m\u001b[0;34m.\u001b[0m\u001b[0m_flags\u001b[0m\u001b[0;34m.\u001b[0m\u001b[0mshutdown_lock\u001b[0m\u001b[0;34m:\u001b[0m\u001b[0;34m\u001b[0m\u001b[0;34m\u001b[0m\u001b[0m\n\u001b[1;32m   1021\u001b[0m             \u001b[0;32mif\u001b[0m \u001b[0mself\u001b[0m\u001b[0;34m.\u001b[0m\u001b[0m_flags\u001b[0m\u001b[0;34m.\u001b[0m\u001b[0mbroken\u001b[0m \u001b[0;32mis\u001b[0m \u001b[0;32mnot\u001b[0m \u001b[0;32mNone\u001b[0m\u001b[0;34m:\u001b[0m\u001b[0;34m\u001b[0m\u001b[0;34m\u001b[0m\u001b[0m\n\u001b[0;32m-> 1022\u001b[0;31m                 \u001b[0;32mraise\u001b[0m \u001b[0mself\u001b[0m\u001b[0;34m.\u001b[0m\u001b[0m_flags\u001b[0m\u001b[0;34m.\u001b[0m\u001b[0mbroken\u001b[0m\u001b[0;34m\u001b[0m\u001b[0;34m\u001b[0m\u001b[0m\n\u001b[0m\u001b[1;32m   1023\u001b[0m             \u001b[0;32mif\u001b[0m \u001b[0mself\u001b[0m\u001b[0;34m.\u001b[0m\u001b[0m_flags\u001b[0m\u001b[0;34m.\u001b[0m\u001b[0mshutdown\u001b[0m\u001b[0;34m:\u001b[0m\u001b[0;34m\u001b[0m\u001b[0;34m\u001b[0m\u001b[0m\n\u001b[1;32m   1024\u001b[0m                 raise ShutdownExecutorError(\n",
      "\u001b[0;31mTerminatedWorkerError\u001b[0m: A worker process managed by the executor was unexpectedly terminated. This could be caused by a segmentation fault while calling the function or by an excessive memory usage causing the Operating System to kill the worker. The exit codes of the workers are {SIGBUS(-7)}"
     ]
    }
   ],
   "source": [
    "# Random Forest\n",
    "#%%timeit \n",
    "rf = evaluate_model(X,y, RandomForestClassifier, \n",
    "                          {'n_estimators': [200, 400, 800,1000],\n",
    "                           'max_depth': [2, 3, 4, 5], \n",
    "                           'min_samples_leaf': [2,3],\n",
    "                           'min_samples_split': [2, 3, 4],\n",
    "                           'max_features' : ['auto', 'sqrt', 'log2']}, passes=1)  # 250)"
   ]
  },
  {
   "cell_type": "markdown",
   "metadata": {},
   "source": [
    "# STOPPED HERE - 1.12.2021\n",
    "## TODOs:\n",
    "1. Multicore processing: Setup Dask for multicore processing in Jupyter Notebook\n",
    "2. Distributed computing: Check Dask Distributed for local cluster setup"
   ]
  },
  {
   "cell_type": "code",
   "execution_count": null,
   "metadata": {},
   "outputs": [],
   "source": [
    "from joblib import dump, load\n",
    "\n",
    "dump(rf, 'binary_rf.obj')  # rf_model"
   ]
  },
  {
   "cell_type": "code",
   "execution_count": null,
   "metadata": {},
   "outputs": [],
   "source": [
    "features2 = pd.DataFrame(data=rf.feature_importances_, index=data.columns)\n",
    "features2.sort_values(by=0,ascending=False, inplace=True)\n",
    "print(features2[:50])"
   ]
  },
  {
   "cell_type": "code",
   "execution_count": null,
   "metadata": {},
   "outputs": [],
   "source": [
    "import seaborn as sns\n",
    "\n",
    "ax_rf = sns.barplot(x=features2.index, y=features2.iloc[:,0], order=features2.index)\n",
    "ax_rf.set_ylabel('Feature importance')\n",
    "fig_rf = ax_rf.get_figure()"
   ]
  },
  {
   "cell_type": "code",
   "execution_count": null,
   "metadata": {},
   "outputs": [],
   "source": [
    "rf_top_features=features2.index[:2].tolist()\n",
    "print(rf_top_features)"
   ]
  },
  {
   "cell_type": "code",
   "execution_count": null,
   "metadata": {},
   "outputs": [],
   "source": [
    "pdp, axes = partial_dependence(rf, X= data, features=[(0, 1)], grid_resolution=20)"
   ]
  },
  {
   "cell_type": "code",
   "execution_count": null,
   "metadata": {},
   "outputs": [],
   "source": [
    "fig = plt.figure()\n",
    "ax = Axes3D(fig)\n",
    "\n",
    "XX, YY = np.meshgrid(axes[0], axes[1])\n",
    "Z = pdp[0].T\n",
    "\n",
    "surf = ax.plot_surface(XX, YY, Z, rstride=1, cstride=1,\n",
    "                       cmap=plt.cm.BuPu, edgecolor='k')\n",
    "#ax.set_xlabel('% Severe Housing \\nCost Burden', fontsize=12)\n",
    "#ax.set_ylabel('% Veteran', fontsize=15)\n",
    "ax.set_xlabel('% mortality diff', fontsize=12)\n",
    "ax.set_ylabel('% severe housing \\ncost burden', fontsize=15)\n",
    "ax.set_zlabel('Partial dependence', fontsize=15)\n",
    "ax.view_init(elev=22, azim=330)\n",
    "plt.colorbar(surf)\n",
    "plt.suptitle('Partial Dependence of Top 2 Features \\nRandom Forest', fontsize=15)\n",
    "plt.subplots_adjust(top=0.9)\n",
    "plt.show()"
   ]
  },
  {
   "cell_type": "code",
   "execution_count": null,
   "metadata": {
    "scrolled": false
   },
   "outputs": [],
   "source": [
    "print(features2.index[range(14)])\n",
    "datafeatures2 = pd.concat([states,y,data[features2.index[range(38)]]],axis=1)\n",
    "datafeatures2.head(10)"
   ]
  },
  {
   "cell_type": "code",
   "execution_count": null,
   "metadata": {},
   "outputs": [],
   "source": [
    "from sklearn.inspection import permutation_importance\n",
    "\n",
    "# feature names \n",
    "feature_names = list(features2.columns)\n",
    "# model - rf\n",
    "model = load('binary_rf.obj')\n",
    "# calculate permutation importance - all data - final model\n",
    "perm_imp_all = permutation_importance(model, data, y, n_repeats=10, random_state=42)\n",
    "\n",
    "print('Permutation Importances - mean')\n",
    "print(perm_imp_all.importances_mean)\n",
    "\n",
    "\n",
    "\n",
    "'''\n",
    "# create dict of feature names and importances\n",
    "fimp_dict_all = dict(zip(feature_names,perm_imp_all.importances_mean))\n",
    "\n",
    "# feature importance - all\n",
    "print('Permutation Importance for All Data')\n",
    "print(fimp_dict_all)\n",
    "# plot importances - all\n",
    "y_pos = np.arange(len(feature_names))\n",
    "plt.barh(y_pos, fimp_dict_all.importances_mean, align='center', alpha=0.5)\n",
    "plt.yticks(y_pos, feature_names)\n",
    "plt.xlabel('Permutation Importance - All')\n",
    "plt.title('Feature Importance - All Data')\n",
    "plt.show()\n",
    "'''"
   ]
  },
  {
   "cell_type": "code",
   "execution_count": null,
   "metadata": {
    "scrolled": false
   },
   "outputs": [],
   "source": [
    "dataused = pd.concat([states,y,data],axis=1)\n",
    "print(dataused.shape)\n",
    "print(dataused.head(10))"
   ]
  },
  {
   "cell_type": "code",
   "execution_count": null,
   "metadata": {},
   "outputs": [],
   "source": [
    "#from joblib import dump, load\n",
    "\n",
    "dump(perm_imp_all, 'perm_imp_rf.obj')"
   ]
  },
  {
   "cell_type": "code",
   "execution_count": null,
   "metadata": {},
   "outputs": [],
   "source": [
    "dataused.to_excel(r'dataused_cj08292020_v2.xlsx',index=None, header=True)"
   ]
  },
  {
   "cell_type": "markdown",
   "metadata": {},
   "source": [
    "### END BG RF ANALYSIS - 8.31.2020"
   ]
  },
  {
   "cell_type": "code",
   "execution_count": null,
   "metadata": {},
   "outputs": [],
   "source": []
  },
  {
   "cell_type": "markdown",
   "metadata": {},
   "source": [
    "### OTHER MODELS NOT RUN"
   ]
  },
  {
   "cell_type": "code",
   "execution_count": null,
   "metadata": {
    "scrolled": false
   },
   "outputs": [],
   "source": [
    "# LASSO     \n",
    "    \n",
    "lasso = evaluate_model(data, Lasso, {'alpha': np.arange(0, 1.1, 0.001), \n",
    "                                     'normalize': [True],\n",
    "                                     'tol' : [1e-3, 1e-4, 1e-5],\n",
    "                                     'max_iter': [1000, 4000, 7000]}, passes=250)"
   ]
  },
  {
   "cell_type": "code",
   "execution_count": null,
   "metadata": {},
   "outputs": [],
   "source": [
    "# Ridge regression\n",
    "\n",
    "ridge = evaluate_model(data, Ridge, {'alpha': np.arange(0, 1.1, 0.05), \n",
    "                                     'normalize': [True], \n",
    "                                     'tol' : [1e-3, 1e-4, 1e-5],\n",
    "                                     'max_iter': [1000, 4000, 7000]}, passes=250)"
   ]
  },
  {
   "cell_type": "code",
   "execution_count": null,
   "metadata": {},
   "outputs": [],
   "source": [
    "# K-nearest neighborhood\n",
    "\n",
    "knn = evaluate_model(data, KNeighborsRegressor, {'n_neighbors': np.arange(1, 8),\n",
    "                                                 'algorithm': ['ball_tree','kd_tree','brute']}, passes=250)"
   ]
  },
  {
   "cell_type": "code",
   "execution_count": null,
   "metadata": {},
   "outputs": [],
   "source": [
    "# Gradient Boosting Machine\n",
    "\n",
    "gbm = evaluate_model(data, GradientBoostingRegressor, {'learning_rate': [0.1, 0.05, 0.02, 0.01], \n",
    "                                                       'n_estimators': [100, 200, 400, 800, 1000],\n",
    "                                                       'min_samples_leaf': [2,3],\n",
    "                                                       'max_depth': [2, 3, 4, 5],\n",
    "                                                       'max_features': ['auto', 'sqrt', 'log2']}, passes=250)"
   ]
  },
  {
   "cell_type": "code",
   "execution_count": null,
   "metadata": {},
   "outputs": [],
   "source": [
    "# CART: classification and regression tree\n",
    "\n",
    "cart = evaluate_model(data, DecisionTreeRegressor, {'splitter': ['best', 'random'], \n",
    "                                                    'criterion': ['mse', 'friedman_mse', 'mae'],\n",
    "                                                    'max_depth': [2, 3, 4, 5],\n",
    "                                                    'min_samples_leaf': [2,3],\n",
    "                                                    'max_features' : ['auto', 'sqrt', 'log2']}, passes=250)"
   ]
  },
  {
   "cell_type": "code",
   "execution_count": null,
   "metadata": {},
   "outputs": [],
   "source": [
    "# Neural network: multi-layer perceptron\n",
    "\n",
    "nnmlp = evaluate_model(data, MLPRegressor, {'hidden_layer_sizes': [(50,)*3, (50,)*5, (50,)*10, (50,)*30, (50,)*50],\n",
    "                                            'activation': ['identity','logistic','tanh','relu']}, passes=250)"
   ]
  },
  {
   "cell_type": "code",
   "execution_count": null,
   "metadata": {},
   "outputs": [],
   "source": [
    "# Support Vector Machine: a linear function is an efficient model to work with\n",
    "\n",
    "svm = evaluate_model(data, LinearSVR, {'tol': [1e-3, 1e-4, 1e-5],\n",
    "                                       'C' : np.arange(0.1,3,0.1),\n",
    "                                       'loss': ['epsilon_insensitive','squared_epsilon_insensitive'],\n",
    "                                       'max_iter': [1000, 2000, 4000]}, passes=250)"
   ]
  },
  {
   "cell_type": "code",
   "execution_count": null,
   "metadata": {},
   "outputs": [],
   "source": [
    "features1 = pd.DataFrame(data=gbm.feature_importances_, index=data.columns)\n",
    "features1.sort_values(by=0,ascending=False, inplace=True)\n",
    "print(features1[:40])"
   ]
  },
  {
   "cell_type": "code",
   "execution_count": null,
   "metadata": {},
   "outputs": [],
   "source": [
    "print(features1.index[range(38)])\n",
    "datafeatures1 = pd.concat([states,y,data[features1.index[range(38)]]],axis=1)\n",
    "datafeatures1.head(10)"
   ]
  },
  {
   "cell_type": "code",
   "execution_count": null,
   "metadata": {},
   "outputs": [],
   "source": [
    "import seaborn as sns\n",
    "\n",
    "ax_gbm = sns.barplot(x=features1.index, y=features1.iloc[:,0], order=features1.index)\n",
    "ax_gbm.set_ylabel('Feature importance')\n",
    "fig_gbm = ax_gbm.get_figure()"
   ]
  }
 ],
 "metadata": {
  "kernel_info": {
   "name": "python3-azureml"
  },
  "kernelspec": {
   "display_name": "Python 3",
   "language": "python",
   "name": "python3"
  },
  "language_info": {
   "codemirror_mode": {
    "name": "ipython",
    "version": 3
   },
   "file_extension": ".py",
   "mimetype": "text/x-python",
   "name": "python",
   "nbconvert_exporter": "python",
   "pygments_lexer": "ipython3",
   "version": "3.7.3"
  },
  "nteract": {
   "version": "nteract-front-end@1.0.0"
  }
 },
 "nbformat": 4,
 "nbformat_minor": 2
}
