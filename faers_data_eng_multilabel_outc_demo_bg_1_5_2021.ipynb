{
 "cells": [
  {
   "cell_type": "markdown",
   "metadata": {},
   "source": [
    "# FAERS Data Enginering for Multilabel ML on Outcomes & Demo Tables"
   ]
  },
  {
   "cell_type": "code",
   "execution_count": 1,
   "metadata": {},
   "outputs": [
    {
     "name": "stdout",
     "output_type": "stream",
     "text": [
      "The pandas version is 0.23.3.\n",
      "The scikit-learn version is 0.20.2.\n"
     ]
    }
   ],
   "source": [
    "#import libraries\n",
    "\n",
    "import numpy as np\n",
    "import pandas as pd\n",
    "print('The pandas version is {}.'.format(pd.__version__))\n",
    "from pandas import read_csv\n",
    "from random import random\n",
    "#from matplotlib import pyplot as plt\n",
    "#from matplotlib.ticker import PercentFormatter\n",
    "#from mpl_toolkits.mplot3d import Axes3D\n",
    "\n",
    "import sklearn\n",
    "print('The scikit-learn version is {}.'.format(sklearn.__version__))\n",
    "from sklearn.model_selection import train_test_split, cross_val_score, GridSearchCV\n",
    "from sklearn.preprocessing import StandardScaler, LabelBinarizer, MultiLabelBinarizer\n",
    "from sklearn.linear_model import Lasso, Ridge\n",
    "from sklearn.metrics import mean_squared_error, make_scorer, accuracy_score, confusion_matrix\n",
    "from sklearn.neighbors import KNeighborsClassifier\n",
    "from sklearn.ensemble import GradientBoostingClassifier, RandomForestClassifier\n",
    "from sklearn.tree import DecisionTreeClassifier\n",
    "from sklearn.neural_network import MLPClassifier\n",
    "from sklearn.svm import LinearSVC\n",
    "#from sklearn.inspection import permutation_importance, partial_dependence\n",
    "import matplotlib.pyplot as plt\n",
    "import seaborn as sns\n",
    "sns.set()\n",
    "%matplotlib inline\n",
    "\n",
    "import warnings\n",
    "warnings.filterwarnings('ignore')"
   ]
  },
  {
   "cell_type": "markdown",
   "metadata": {},
   "source": [
    "## Methodology\n",
    "\n",
    "### Objective\n",
    "**Use FAERS data on drug safety to identify possible risk factors associated with patient mortality and other serious adverse events associated with approved used of a drug or drug class** \n",
    "\n",
    "### Data\n",
    "**_Outcome table_** \n",
    "1. Start with outcome_c table to define unit of analysis (primaryid)\n",
    "2. Reshape outcome_c to one row per primaryid\n",
    "3. Outcomes grouped into 3 categories: a. death, b. serious, c. other  \n",
    "4. Multiclass model target format: each outcome grp coded into separate columns\n",
    "\n",
    "**_Demo table_**\n",
    "1. Drop fields not used in model input to reduce table size (preferably before import to notebook)\n",
    "2. Check if demo table one row per primaryid (if NOT then need to reshape / clean - TBD)\n",
    "\n",
    "**_Model input and targets_**\n",
    "1. Merge clean demo table with reshaped multilabel outcome targets (rows: primaryid, cols: outcome grps)\n",
    "2. Inspect merged file to check for anomalies (outliers, bad data, ...)\n",
    "\n",
    "### Model\n",
    "**_Multilabel Classifier_**\n",
    "1. Since each primaryid has multiple outcomes coded in the outcome_c table, the ML model should predict the probability of each possible outcome.\n",
    "2. In scikit-learn lib most/all classifiers can predict multilabel outcomes by coding target outputs into array\n",
    "\n",
    "### Results\n",
    "TBD\n",
    "\n",
    "### Insights\n",
    "TBD"
   ]
  },
  {
   "cell_type": "markdown",
   "metadata": {},
   "source": [
    "### Data Pipeline: Outcome Table "
   ]
  },
  {
   "cell_type": "code",
   "execution_count": 2,
   "metadata": {},
   "outputs": [
    {
     "name": "stdout",
     "output_type": "stream",
     "text": [
      "   primaryid outc_cod\n",
      "0  100046942       OT\n",
      "1  100048206       HO\n",
      "2  100048206       OT\n",
      "3  100048622       OT\n",
      "4  100051352       OT \n",
      "\n",
      "Total number of rows: 335,470\n",
      "\n",
      "Unique number of primaryids: 260,715\n"
     ]
    }
   ],
   "source": [
    "# read outcome_c.csv & drop unnecessary fields\n",
    "infile = '../input/Outc20Q1.csv'\n",
    "cols_in = ['primaryid','outc_cod']\n",
    "df = pd.read_csv(infile, usecols=cols_in)\n",
    "\n",
    "print(df.head(),'\\n')\n",
    "print(f'Total number of rows: {len(df):,}\\n')\n",
    "print(f'Unique number of primaryids: {df.primaryid.nunique():,}')"
   ]
  },
  {
   "cell_type": "code",
   "execution_count": 3,
   "metadata": {},
   "outputs": [
    {
     "name": "stdout",
     "output_type": "stream",
     "text": [
      "Distribution of Adverse Event Outcomes in FAERS 2020 Q1\n",
      "OT:  168,410\n",
      "HO:  105,542\n",
      "DE:   40,221\n",
      "LT:   12,416\n",
      "DS:    6,925\n",
      "CA:    1,598\n",
      "RI:      358\n",
      "------------------------------------------------------------------------\n",
      "Most common outcome is OT with 168,410 in 2020Q1\n"
     ]
    }
   ],
   "source": [
    "# distribution of outcomes\n",
    "from collections import Counter\n",
    "o_cnt = Counter(df['outc_cod'])\n",
    "print('Distribution of Adverse Event Outcomes in FAERS 2020 Q1')\n",
    "for k, v in o_cnt.items():\n",
    "    print(f'{k}: {v:>8,}')\n",
    "\n",
    "print(72*'-')\n",
    "print(f'Most common outcome is {o_cnt.most_common(1)[0][0]} with {o_cnt.most_common(1)[0][1]:,} in 2020Q1')"
   ]
  },
  {
   "cell_type": "code",
   "execution_count": 4,
   "metadata": {},
   "outputs": [
    {
     "name": "stdout",
     "output_type": "stream",
     "text": [
      "   primaryid outc_cod   oc_cat\n",
      "0  100046942       OT    other\n",
      "1  100048206       HO  serious\n",
      "2  100048206       OT    other\n",
      "3  100048622       OT    other\n",
      "4  100051352       OT    other \n",
      "\n",
      "Distribution of AE Outcome Grouping\n",
      "other      0.502012\n",
      "serious    0.378093\n",
      "death      0.119894\n",
      "Name: oc_cat, dtype: float64 \n",
      "\n",
      "AxesSubplot(0.125,0.125;0.775x0.755)\n"
     ]
    },
    {
     "data": {
      "image/png": "[encoded data removed]",
      "text/plain": [
       "<Figure size 432x288 with 1 Axes>"
      ]
     },
     "metadata": {
      "needs_background": "light"
     },
     "output_type": "display_data"
    }
   ],
   "source": [
    "### create outcome groups: death:'DE', serious: ['LT','HO','DS','CA',RI], other: 'OT'\n",
    "# map grp dict to outc_cod \n",
    "outc_to_grp = {'DE':'death',\n",
    "               'LT':'serious',\n",
    "               'HO':'serious',\n",
    "               'DS':'serious',\n",
    "               'CA':'serious',\n",
    "               'RI':'serious',\n",
    "               'OT':'other'}\n",
    "df['oc_cat'] = df['outc_cod'].map(outc_to_grp)\n",
    "print(df.head(),'\\n')\n",
    "print('Distribution of AE Outcome Grouping')\n",
    "print(df['oc_cat'].value_counts()/len(df['oc_cat']),'\\n')\n",
    "print(df['oc_cat'].value_counts().plot(kind='bar'))"
   ]
  },
  {
   "cell_type": "code",
   "execution_count": 5,
   "metadata": {},
   "outputs": [
    {
     "name": "stdout",
     "output_type": "stream",
     "text": [
      "Outcome codes after join (before groupby)\n",
      "Total number of rows: 335,470\n",
      "Unique number of primaryids: 260,715\n",
      "\n",
      "   index  primaryid outc_cod   oc_cat  death  other  serious\n",
      "0      0  100046942       OT    other      0      1        0\n",
      "1      1  100048206       HO  serious      0      0        1\n",
      "2      2  100048206       OT    other      0      1        0\n",
      "3      3  100048622       OT    other      0      1        0\n",
      "4      4  100051352       OT    other      0      1        0\n",
      "         index  primaryid outc_cod oc_cat  death  other  serious\n",
      "335465  335465   99974543       OT  other      0      1        0\n",
      "335466  335466   99975132       OT  other      0      1        0\n",
      "335467  335467   99977523       OT  other      0      1        0\n",
      "335468  335468   99978615       OT  other      0      1        0\n",
      "335469  335469   99998112       OT  other      0      1        0\n",
      "------------------------------------------------------------------------\n",
      "Outcome codes after groupby\n",
      "Total number of rows: 260,715\n",
      "Unique number of primaryids: 260,715\n",
      "\n",
      "   primaryid  death  other  serious  n_outc\n",
      "0   39651443      0      1        0       1\n",
      "1   39703652      0      1        1       2\n",
      "2   39928752      0      0        1       1\n",
      "3   40142274      0      1        0       1\n",
      "4   40158544      0      1        0       1\n",
      "         primaryid  death  other  serious  n_outc\n",
      "260710  1728674412      0      1        3       4\n",
      "260711  1728983310      0      0        1       1\n",
      "260712  1733512712      1      0        1       2\n",
      "260713  1736169210      0      0        1       1\n",
      "260714  1741600011      1      0        2       3\n",
      "              count          mean           std         min          25%  \\\n",
      "primaryid  260715.0  1.905476e+08  1.567929e+08  39651443.0  172318487.0   \n",
      "death      260715.0  1.542719e-01  3.612099e-01         0.0          0.0   \n",
      "other      260715.0  6.459544e-01  4.782240e-01         0.0          0.0   \n",
      "serious    260715.0  4.865044e-01  5.789312e-01         0.0          0.0   \n",
      "n_outc     260715.0  1.286731e+00  5.546336e-01         1.0          1.0   \n",
      "\n",
      "                   50%          75%           max  \n",
      "primaryid  173619571.0  174849461.0  1.741600e+09  \n",
      "death              0.0          0.0  1.000000e+00  \n",
      "other              1.0          1.0  1.000000e+00  \n",
      "serious            0.0          1.0  4.000000e+00  \n",
      "n_outc             1.0          1.0  6.000000e+00   \n",
      "\n",
      "AxesSubplot(0.125,0.125;0.775x0.755)\n"
     ]
    },
    {
     "data": {
      "image/png": "[encoded data removed]",
      "text/plain": [
       "<Figure size 432x288 with 1 Axes>"
      ]
     },
     "metadata": {
      "needs_background": "light"
     },
     "output_type": "display_data"
    }
   ],
   "source": [
    "# one hot encoding of outcome grp\n",
    "\n",
    "# pandas automatic dummy var coding\n",
    "dummy = pd.get_dummies(df['oc_cat'])\n",
    "df1 = df.join(dummy).reset_index()  # join dummy codes & reset index to keep primaryid in df\n",
    "print('Outcome codes after join (before groupby)')\n",
    "print(f'Total number of rows: {len(df1):,}')\n",
    "print(f'Unique number of primaryids: {df1.primaryid.nunique():,}\\n')\n",
    "print(df1.head())\n",
    "print(df1.tail())\n",
    "\n",
    "# create multilabel outcomes by primaryid\n",
    "df2 = df1.groupby(['primaryid'])[['death','other','serious']].sum().reset_index()   \n",
    "df2['n_outc'] = df2[['death','other','serious']].sum(axis='columns')  # cnt total outcomes by primaryid\n",
    "print('-'*72)\n",
    "print('Outcome codes after groupby')\n",
    "print(f'Total number of rows: {len(df2):,}')\n",
    "print(f'Unique number of primaryids: {df2.primaryid.nunique():,}\\n')\n",
    "print(df2.head())\n",
    "print(df2.tail())\n",
    "print(df2.describe().T,'\\n')\n",
    "# plot distribution of outcome groups\n",
    "color = {'boxes':'DarkGreen', 'whiskers':'DarkOrange', 'medians':'DarkBlue', 'caps':'Gray'}\n",
    "print(df2[['death','other','serious','n_outc']].plot.box(color=color, sym='r+'))"
   ]
  },
  {
   "cell_type": "code",
   "execution_count": 6,
   "metadata": {},
   "outputs": [],
   "source": [
    "# save multilabel data to csv\n",
    "#df2.to_csv('../input/outc_cod-multilabel.csv')"
   ]
  },
  {
   "cell_type": "code",
   "execution_count": 16,
   "metadata": {},
   "outputs": [
    {
     "name": "stdout",
     "output_type": "stream",
     "text": [
      "        primaryid  death  other  serious  n_outc\n",
      "55788   171962202      1      1        4       6\n",
      "142683  173902932      1      1        4       6\n",
      "154281  174119951      1      1        4       6\n",
      "243273  175773511      1      1        4       6\n",
      "256398  176085111      1      1        4       6\n"
     ]
    }
   ],
   "source": [
    "# check primaryid from outcomes table with many outcomes\n",
    "print(df2[df2['n_outc'] >= 6])  \n",
    "# checked in both outcomes and demo - multiple primaryids in outcome but only one primaryid in demo\n",
    "# appears to be okay to use"
   ]
  },
  {
   "cell_type": "code",
   "execution_count": 32,
   "metadata": {},
   "outputs": [],
   "source": [
    "# compare primaryids above in outcomes table to same in demo table\n",
    "#pid_lst = [171962202,173902932,174119951,175773511,176085111]\n",
    "#[print(df_demo[df_demo['primaryid'] == p]) for p in pid_lst]  # one row in demo per primaryid - looks ok to join"
   ]
  },
  {
   "cell_type": "markdown",
   "metadata": {},
   "source": [
    "### Data Pipeline - Demo Table"
   ]
  },
  {
   "cell_type": "code",
   "execution_count": 7,
   "metadata": {},
   "outputs": [
    {
     "name": "stdout",
     "output_type": "stream",
     "text": [
      "Index(['primaryid', 'caseid', 'caseversion', 'i_f_code', 'event.dt1', 'mfr_dt',\n",
      "       'init_fda_dt', 'fda_dt', 'rept_cod', 'auth_num', 'mfr_num', 'mfr_sndr',\n",
      "       'lit_ref', 'age', 'age_cod', 'age_grp', 'sex', 'e_sub', 'wt', 'wt_cod',\n",
      "       'rept.dt1', 'to_mfr', 'occp_cod', 'reporter_country', 'occr_country'],\n",
      "      dtype='object') \n",
      "\n",
      "Percent missing by column:\n",
      "primaryid            0.000000\n",
      "caseid               0.000000\n",
      "caseversion          0.000000\n",
      "i_f_code             0.000000\n",
      "event.dt1           50.425676\n",
      "mfr_dt               5.891247\n",
      "init_fda_dt          0.000000\n",
      "fda_dt               0.000000\n",
      "rept_cod             0.000000\n",
      "auth_num            94.114401\n",
      "mfr_num              5.889943\n",
      "mfr_sndr             0.000000\n",
      "lit_ref             94.064002\n",
      "age                 41.312371\n",
      "age_cod             41.309547\n",
      "age_grp             89.348007\n",
      "sex                 10.358072\n",
      "e_sub                0.000000\n",
      "wt                  80.314646\n",
      "wt_cod              80.314646\n",
      "rept.dt1             0.047140\n",
      "to_mfr              94.109188\n",
      "occp_cod             4.056464\n",
      "reporter_country     0.000000\n",
      "occr_country         0.001738\n",
      "dtype: float64\n"
     ]
    }
   ],
   "source": [
    "# read demo.csv & check fields for missing values\n",
    "infile = '../input/DEMO20Q1.csv'\n",
    "#%timeit df_demo = pd.read_csv(infile) # 1 loop, best of 5: 5.19 s per loop\n",
    "df_demo = pd.read_csv(infile)\n",
    "print(df_demo.columns,'\\n')\n",
    "print(f'Percent missing by column:\\n{(pd.isnull(df_demo).sum()/len(df_demo))*100}')"
   ]
  },
  {
   "cell_type": "code",
   "execution_count": 8,
   "metadata": {},
   "outputs": [
    {
     "name": "stdout",
     "output_type": "stream",
     "text": [
      "   primaryid  caseversion i_f_code   event.dt1      mfr_dt init_fda_dt  \\\n",
      "0  100046942            2        F         NaN  2020-01-08  2014-03-12   \n",
      "1  100048206            6        F         NaN  2020-03-05  2014-03-12   \n",
      "2  100048622            2        F  2005-12-30  2020-03-12  2014-03-12   \n",
      "3  100051352            2        F  2006-09-22  2020-02-20  2014-03-12   \n",
      "4  100051382            2        F  1999-01-01  2020-01-08  2014-03-12   \n",
      "\n",
      "       fda_dt rept_cod                   mfr_num mfr_sndr     ...       \\\n",
      "0  2020-01-10      EXP  US-PFIZER INC-2014065112   PFIZER     ...        \n",
      "1  2020-03-09      EXP  US-PFIZER INC-2014029927   PFIZER     ...        \n",
      "2  2020-03-16      EXP  US-PFIZER INC-2014066653   PFIZER     ...        \n",
      "3  2020-02-24      EXP  US-PFIZER INC-2014072143   PFIZER     ...        \n",
      "4  2020-01-10      EXP  US-PFIZER INC-2014071938   PFIZER     ...        \n",
      "\n",
      "   age_cod age_grp sex e_sub    wt  wt_cod    rept.dt1 occp_cod  \\\n",
      "0      NaN     NaN   F     Y  81.0      KG  2020-01-10       LW   \n",
      "1       YR     NaN   F     Y   NaN     NaN  2020-03-09       MD   \n",
      "2       YR     NaN   F     Y   NaN     NaN  2020-03-16       LW   \n",
      "3       YR     NaN   F     Y   NaN     NaN  2020-02-24       LW   \n",
      "4       YR     NaN   F     Y  83.0      KG  2020-01-10       LW   \n",
      "\n",
      "  reporter_country occr_country  \n",
      "0               US           US  \n",
      "1               US           US  \n",
      "2               US           US  \n",
      "3               US           US  \n",
      "4               US           US  \n",
      "\n",
      "[5 rows x 21 columns] \n",
      "\n",
      "Total number of rows: 460,327\n",
      "\n",
      "Unique number of primaryids: 460,327 \n",
      "\n",
      "Percent missing by column:\n",
      "primaryid            0.000000\n",
      "caseversion          0.000000\n",
      "i_f_code             0.000000\n",
      "event.dt1           50.425676\n",
      "mfr_dt               5.891247\n",
      "init_fda_dt          0.000000\n",
      "fda_dt               0.000000\n",
      "rept_cod             0.000000\n",
      "mfr_num              5.889943\n",
      "mfr_sndr             0.000000\n",
      "age                 41.312371\n",
      "age_cod             41.309547\n",
      "age_grp             89.348007\n",
      "sex                 10.358072\n",
      "e_sub                0.000000\n",
      "wt                  80.314646\n",
      "wt_cod              80.314646\n",
      "rept.dt1             0.047140\n",
      "occp_cod             4.056464\n",
      "reporter_country     0.000000\n",
      "occr_country         0.001738\n",
      "dtype: float64\n"
     ]
    }
   ],
   "source": [
    "# exclude fields with large percent missing on read to preserve memory\n",
    "keep_cols = ['primaryid', 'caseversion', 'i_f_code', 'event.dt1', 'mfr_dt', 'init_fda_dt', 'fda_dt', \n",
    "             'rept_cod',  'mfr_num', 'mfr_sndr', 'age', 'age_cod', 'age_grp','sex', 'e_sub', 'wt', 'wt_cod', \n",
    "             'rept.dt1', 'occp_cod', 'reporter_country', 'occr_country']\n",
    "\n",
    "# removed cols: 'auth_num','lit_ref','age_grp','to_mfr'\n",
    "\n",
    "infile = '../input/DEMO20Q1.csv'\n",
    "#%timeit df_demo = pd.read_csv(infile, usecols=keep_cols)  # 1 loop, best of 5: 4.5 s per loop\n",
    "df_demo = pd.read_csv(infile, usecols=keep_cols)\n",
    "print(df_demo.head(),'\\n')\n",
    "print(f'Total number of rows: {len(df_demo):,}\\n')\n",
    "print(f'Unique number of primaryids: {df_demo.primaryid.nunique():,}','\\n')\n",
    "print(f'Percent missing by column:\\n{(pd.isnull(df_demo).sum()/len(df_demo))*100}')"
   ]
  },
  {
   "cell_type": "code",
   "execution_count": 12,
   "metadata": {},
   "outputs": [
    {
     "name": "stdout",
     "output_type": "stream",
     "text": [
      "Demo - Multilabel outcome Merge \n",
      "\n",
      "Total number of rows: 260,715\n",
      "\n",
      "Unique number of primaryids: 260,715 \n",
      "\n",
      "Percent missing by column:\n",
      "primaryid            0.000000\n",
      "caseversion          0.000000\n",
      "i_f_code             0.000000\n",
      "event.dt1           45.019657\n",
      "mfr_dt               4.475769\n",
      "init_fda_dt          0.000000\n",
      "fda_dt               0.000000\n",
      "rept_cod             0.000000\n",
      "mfr_num              4.473851\n",
      "mfr_sndr             0.000000\n",
      "age                 33.273881\n",
      "age_cod             33.269279\n",
      "age_grp             89.183975\n",
      "sex                  9.671097\n",
      "e_sub                0.000000\n",
      "wt                  74.717220\n",
      "wt_cod              74.717220\n",
      "rept.dt1             0.055616\n",
      "occp_cod             2.708321\n",
      "reporter_country     0.000000\n",
      "occr_country         0.001918\n",
      "death                0.000000\n",
      "other                0.000000\n",
      "serious              0.000000\n",
      "n_outc               0.000000\n",
      "dtype: float64\n"
     ]
    }
   ],
   "source": [
    "# merge demo and multilabel outcomes on primaryid\n",
    "df_demo_outc = pd.merge(df_demo, df2, on='primaryid')\n",
    "print('Demo - Multilabel outcome Merge','\\n')\n",
    "#print(df_demo_outc.head(),'\\n')\n",
    "print(f'Total number of rows: {len(df_demo_outc):,}\\n')\n",
    "print(f'Unique number of primaryids: {df_demo_outc.primaryid.nunique():,}','\\n')\n",
    "print(f'Percent missing by column:\\n{(pd.isnull(df_demo_outc).sum()/len(df_demo_outc))*100}')"
   ]
  },
  {
   "cell_type": "code",
   "execution_count": 14,
   "metadata": {},
   "outputs": [
    {
     "name": "stdout",
     "output_type": "stream",
     "text": [
      "KG     90507\n",
      "LBS      110\n",
      "Name: wt_cod, dtype: int64\n",
      "          count        mean        std   min     25%     50%    75%     max\n",
      "wt_cod                                                                     \n",
      "KG      90507.0   74.527047  26.076225   0.0   60.00   72.57   88.0  720.18\n",
      "LBS       110.0  177.080909  62.213976  17.0  135.25  166.75  198.5  372.00\n",
      "                 age        wt_lbs\n",
      "count  173965.000000  65916.000000\n",
      "mean      237.044055    161.779543\n",
      "std      2050.336650     57.497343\n",
      "min        -3.000000      0.000000\n",
      "25%        43.000000    130.072757\n",
      "50%        60.000000    158.732856\n",
      "75%        72.000000    190.170780\n",
      "max     41879.000000   1587.725392\n",
      "             age    wt_lbs\n",
      "age     1.000000  0.042254\n",
      "wt_lbs  0.042254  1.000000\n",
      "AxesSubplot(0.125,0.125;0.775x0.755)\n"
     ]
    },
    {
     "data": {
      "image/png": "[encoded data removed]",
      "text/plain": [
       "<Figure size 432x288 with 1 Axes>"
      ]
     },
     "metadata": {
      "needs_background": "light"
     },
     "output_type": "display_data"
    }
   ],
   "source": [
    "# check wt & wt_cod - %74 missing\n",
    "print(df_demo.wt_cod.value_counts()) \n",
    "print(df_demo.groupby('wt_cod')['wt'].describe())\n",
    "# convert kg to lbs\n",
    "df_demo_outc['wt_lbs'] = np.where(df_demo_outc['wt_cod']=='KG',df_demo_outc['wt']*2.204623,df_demo_outc['wt'])\n",
    "print(df_demo_outc[['age','wt_lbs']].describe())\n",
    "print(df_demo_outc[['age','wt_lbs']].corr())\n",
    "print(sns.regplot('age','wt_lbs',data=df_demo_outc))"
   ]
  },
  {
   "cell_type": "markdown",
   "metadata": {},
   "source": [
    "### Insight: No correlation between wt and age + age range looks wrong. Check age"
   ]
  },
  {
   "cell_type": "code",
   "execution_count": 20,
   "metadata": {},
   "outputs": [
    {
     "name": "stdout",
     "output_type": "stream",
     "text": [
      "age_grp\n",
      "A    31429\n",
      "E    13993\n",
      "T     1139\n",
      "N     1043\n",
      "C     1034\n",
      "I      396\n",
      "Name: age_grp, dtype: int64 \n",
      "\n",
      "age_cod\n",
      "YR     263735\n",
      "DY       2696\n",
      "MON      1818\n",
      "DEC      1733\n",
      "WK        175\n",
      "HR         11\n",
      "Name: age_cod, dtype: int64 \n",
      "\n",
      "age\n",
      "                   count       mean        std   min    25%   50%    75%  \\\n",
      "age_grp age_cod                                                            \n",
      "A       DEC        138.0   4.007246   1.298491   2.0   3.00   4.0   5.00   \n",
      "        MON          1.0  19.000000        NaN  19.0  19.00  19.0  19.00   \n",
      "        YR       19626.0  46.055539  13.138815  14.0  36.00  49.0  57.00   \n",
      "C       MON          6.0  34.000000   8.148620  24.0  28.00  33.5  39.75   \n",
      "        YR         531.0   6.715631   2.929376   2.0   4.00   7.0   9.00   \n",
      "E       DEC         68.0   7.823529   0.879979   7.0   7.00   8.0   8.00   \n",
      "        YR       10567.0  74.186619   6.911079  44.0  69.00  73.0  79.00   \n",
      "I       DY           1.0   1.000000        NaN   1.0   1.00   1.0   1.00   \n",
      "        MON         77.0   9.870130   5.715516   1.0   6.00  10.0  13.00   \n",
      "        WK           6.0  16.833333  14.972196   4.0   7.25   9.0  29.50   \n",
      "        YR          20.0   1.150000   0.366348   1.0   1.00   1.0   1.00   \n",
      "N       DY          61.0   1.540984   3.423321   0.0   0.00   0.0   1.00   \n",
      "        HR           1.0   1.000000        NaN   1.0   1.00   1.0   1.00   \n",
      "        MON         14.0  13.857143  11.400790   3.0   5.25   9.5  17.00   \n",
      "        YR           6.0   0.166667   0.408248   0.0   0.00   0.0   0.00   \n",
      "T       YR         896.0  14.833705   1.715595   7.0  13.00  15.0  16.00   \n",
      "\n",
      "                   max  \n",
      "age_grp age_cod         \n",
      "A       DEC        6.0  \n",
      "        MON       19.0  \n",
      "        YR        86.0  \n",
      "C       MON       45.0  \n",
      "        YR        13.0  \n",
      "E       DEC       10.0  \n",
      "        YR       103.0  \n",
      "I       DY         1.0  \n",
      "        MON       23.0  \n",
      "        WK        36.0  \n",
      "        YR         2.0  \n",
      "N       DY        16.0  \n",
      "        HR         1.0  \n",
      "        MON       34.0  \n",
      "        YR         1.0  \n",
      "T       YR        19.0  \n"
     ]
    }
   ],
   "source": [
    "# age_grp\n",
    "print('age_grp')\n",
    "print(df_demo.age_grp.value_counts(),'\\n') \n",
    "# age_cod\n",
    "print('age_cod')\n",
    "print(df_demo.age_cod.value_counts(),'\\n')\n",
    "# age\n",
    "print('age')\n",
    "print(df_demo.groupby(['age_grp','age_cod'])['age'].describe()) "
   ]
  },
  {
   "cell_type": "markdown",
   "metadata": {},
   "source": [
    "### age_grp, age_cod, age: Distributions by age group & code look reasonable. Create age in yrs. \n",
    "\n",
    "age_grp\n",
    "* N - Neonate\n",
    "* I - Infant\n",
    "* C - Child\n",
    "* T - Adolescent (teen?)\n",
    "* A - Adult\n",
    "* E - Elderly\n",
    "\n",
    "age_cod\n",
    "* DEC - decade (yrs = 10*DEC)\n",
    "* YR - year (yrs = 1*YR)\n",
    "* MON - month (yrs = MON/12)\n",
    "* WK - week (yrs = WK/52)\n",
    "* DY - day (yrs = DY/365.25)\n",
    "* HR - hour (yrs = HR/(365.25*24)) or code to zero"
   ]
  },
  {
   "cell_type": "code",
   "execution_count": 23,
   "metadata": {},
   "outputs": [
    {
     "name": "stdout",
     "output_type": "stream",
     "text": [
      "age_yrs\n",
      "                   count       mean        std        min        25%  \\\n",
      "age_grp age_cod                                                        \n",
      "A       DEC         73.0  44.246575  13.114645  20.000000  30.000000   \n",
      "        MON          1.0   1.583333        NaN   1.583333   1.583333   \n",
      "        YR       10548.0  46.204115  12.832555  14.000000  36.000000   \n",
      "C       MON          4.0   2.458333   0.433013   2.000000   2.187500   \n",
      "        YR         315.0   6.726984   3.043486   2.000000   4.000000   \n",
      "E       DEC         65.0  78.307692   8.938895  70.000000  70.000000   \n",
      "        YR        6096.0  74.605315   7.153633  44.000000  69.000000   \n",
      "I       DY           1.0   0.002738        NaN   0.002738   0.002738   \n",
      "        MON         63.0   0.765873   0.461283   0.083333   0.416667   \n",
      "        WK           4.0   0.274038   0.282797   0.076923   0.120192   \n",
      "        YR          12.0   1.166667   0.389249   1.000000   1.000000   \n",
      "N       DY          61.0   0.004219   0.009373   0.000000   0.000000   \n",
      "        HR           1.0   1.000000        NaN   1.000000   1.000000   \n",
      "        MON         14.0   1.154762   0.950066   0.250000   0.437500   \n",
      "        YR           6.0   0.166667   0.408248   0.000000   0.000000   \n",
      "T       YR         388.0  14.938144   1.631818  12.000000  14.000000   \n",
      "\n",
      "                       50%        75%         max  \n",
      "age_grp age_cod                                    \n",
      "A       DEC      50.000000  60.000000   60.000000  \n",
      "        MON       1.583333   1.583333    1.583333  \n",
      "        YR       49.000000  57.000000   82.000000  \n",
      "C       MON       2.416667   2.687500    3.000000  \n",
      "        YR        7.000000   9.000000   13.000000  \n",
      "E       DEC      80.000000  80.000000  100.000000  \n",
      "        YR       73.000000  79.000000  103.000000  \n",
      "I       DY        0.002738   0.002738    0.002738  \n",
      "        MON       0.750000   0.958333    1.916667  \n",
      "        WK        0.163462   0.317308    0.692308  \n",
      "        YR        1.000000   1.000000    2.000000  \n",
      "N       DY        0.000000   0.002738    0.043806  \n",
      "        HR        1.000000   1.000000    1.000000  \n",
      "        MON       0.791667   1.416667    2.833333  \n",
      "        YR        0.000000   0.000000    1.000000  \n",
      "T       YR       15.000000  16.000000   19.000000  \n",
      "                 age        age_yrs\n",
      "count  173965.000000  173965.000000\n",
      "mean      237.044055      55.906426\n",
      "std      2050.336650      20.714407\n",
      "min        -3.000000      -3.000000\n",
      "25%        43.000000      43.000000\n",
      "50%        60.000000      60.000000\n",
      "75%        72.000000      71.000000\n",
      "max     41879.000000     120.000000\n",
      "           wt_lbs   age_yrs\n",
      "wt_lbs   1.000000  0.229312\n",
      "age_yrs  0.229312  1.000000\n",
      "AxesSubplot(0.125,0.125;0.775x0.755)\n"
     ]
    },
    {
     "data": {
      "image/png": "[encoded data removed]",
      "text/plain": [
       "<Figure size 432x288 with 1 Axes>"
      ]
     },
     "metadata": {
      "needs_background": "light"
     },
     "output_type": "display_data"
    }
   ],
   "source": [
    "# convert age to yrs\n",
    "df_demo_outc['age_yrs'] = np.where(df_demo_outc['age_cod']=='DEC',df_demo_outc['age']*10,\n",
    "                                  np.where(df_demo_outc['age_cod']=='MON',df_demo_outc['age']/12,\n",
    "                                  np.where(df_demo_outc['age_cod']=='WK',df_demo_outc['age']/52,\n",
    "                                  np.where(df_demo_outc['age_cod']=='DY',df_demo_outc['age']/365.25,\n",
    "                                  np.where(df_demo_outc['age_cod']=='DEC',df_demo_outc['age']/8766,\n",
    "                                  df_demo_outc['age'])))))\n",
    "\n",
    "# age_yrs\n",
    "print('age_yrs')\n",
    "print(df_demo_outc.groupby(['age_grp','age_cod'])['age_yrs'].describe()) \n",
    "print(df_demo_outc[['age','age_yrs']].describe())\n",
    "print(df_demo_outc[['wt_lbs','age_yrs']].corr())\n",
    "print(sns.regplot('wt_lbs','age_yrs',data=df_demo_outc))"
   ]
  },
  {
   "cell_type": "code",
   "execution_count": 26,
   "metadata": {},
   "outputs": [
    {
     "name": "stdout",
     "output_type": "stream",
     "text": [
      "        primaryid  caseversion i_f_code   event.dt1      mfr_dt init_fda_dt  \\\n",
      "39797   169193346            6        F  2019-09-24  2020-01-16  2019-10-15   \n",
      "121172  173344201            1        I         NaN  2020-01-15  2020-01-28   \n",
      "\n",
      "            fda_dt rept_cod                                          mfr_num  \\\n",
      "39797   2020-01-16      EXP  JP-BRISTOL-MYERS SQUIBB COMPANY-BMS-2019-097328   \n",
      "121172  2020-01-28      EXP         US-LUPIN PHARMACEUTICALS INC.-2020-00387   \n",
      "\n",
      "                    mfr_sndr   ...      rept.dt1 occp_cod reporter_country  \\\n",
      "39797   BRISTOL MYERS SQUIBB   ...    2020-01-16       MD               JP   \n",
      "121172                 LUPIN   ...    2020-01-28       HP               US   \n",
      "\n",
      "       occr_country death  other serious n_outc       wt_lbs age_yrs  \n",
      "39797            JP     1      1       2      4  1418.674901    58.0  \n",
      "121172           US     1      1       2      4  1587.725392     NaN  \n",
      "\n",
      "[2 rows x 27 columns]\n"
     ]
    }
   ],
   "source": [
    "# review data where wt_lbs > 800 lbs?\n",
    "print(df_demo_outc[df_demo_outc['wt_lbs'] > 800])"
   ]
  },
  {
   "cell_type": "code",
   "execution_count": 27,
   "metadata": {},
   "outputs": [
    {
     "name": "stdout",
     "output_type": "stream",
     "text": [
      "Index(['primaryid', 'caseversion', 'i_f_code', 'event.dt1', 'mfr_dt',\n",
      "       'init_fda_dt', 'fda_dt', 'rept_cod', 'mfr_num', 'mfr_sndr', 'age',\n",
      "       'age_cod', 'age_grp', 'sex', 'e_sub', 'wt', 'wt_cod', 'rept.dt1',\n",
      "       'occp_cod', 'reporter_country', 'occr_country', 'death', 'other',\n",
      "       'serious', 'n_outc', 'wt_lbs', 'age_yrs'],\n",
      "      dtype='object')\n"
     ]
    }
   ],
   "source": [
    "# drop wt & wt_code (replaced by wt_lbs)\n",
    "#df_demo_outc_wt_lbs_age_yrs = df_demo_outc.drop(['wt','wt_cod'],axis=1,inplace=True)\n",
    "print(df_demo_outc.columns)\n",
    "# save merged demo & multilabel data to csv\n",
    "df_demo_outc.to_csv('../input/demo-outc_cod-multilabel-wt_lbs-age_yrs.csv')"
   ]
  },
  {
   "cell_type": "code",
   "execution_count": 34,
   "metadata": {},
   "outputs": [
    {
     "name": "stdout",
     "output_type": "stream",
     "text": [
      "Number of patients with adverse events by manufacturer reported in 2020Q1 from DEMO table:\n",
      "PFIZER                               35415\n",
      "NOVARTIS                             35022\n",
      "FDA-CTU                              27113\n",
      "GALDERMA                             26005\n",
      "ABBVIE                               23892\n",
      "JOHNSON AND JOHNSON                  21011\n",
      "CELGENE                              16846\n",
      "ROCHE                                16543\n",
      "MYLAN                                14987\n",
      "SANOFI AVENTIS                       14526\n",
      "AMGEN                                13995\n",
      "BRISTOL MYERS SQUIBB                 13050\n",
      "TEVA                                 12774\n",
      "GLAXOSMITHKLINE                      10212\n",
      "ASTRAZENECA                           9396\n",
      "ELI LILLY AND CO                      8441\n",
      "BAYER                                 7870\n",
      "ALLERGAN                              7727\n",
      "AUROBINDO                             7699\n",
      "MERCK                                 6750\n",
      "BIOGEN                                6432\n",
      "TAKEDA                                4742\n",
      "BOEHRINGER INGELHEIM                  4442\n",
      "UCB                                   4411\n",
      "GILEAD                                4360\n",
      "ACTELION                              4256\n",
      "SHIRE                                 4217\n",
      "RANBAXY                               3919\n",
      "ACORDA                                3289\n",
      "BAUSCH AND LOMB                       3082\n",
      "                                     ...  \n",
      "NAPO PHARMACEUTICALS                     1\n",
      "ECI PHARMACEUTICALS                      1\n",
      "ALPHAPHARM                               1\n",
      "CEDIPROF                                 1\n",
      "OPKO HEALTH                              1\n",
      "SIMILASAN                                1\n",
      "STI PHARMA                               1\n",
      "VGYAAN PHARMACEUTICALS                   1\n",
      "HALOZYME                                 1\n",
      "DIAGNOSTIC GREEN                         1\n",
      "HARRIS                                   1\n",
      "EDGEWELL PERSONAL CARE BRANDS            1\n",
      "ACELRX PHARMACEUTICALS                   1\n",
      "METHAPHARM                               1\n",
      "CATALENT PHARMA                          1\n",
      "AIR PRODUCTS                             1\n",
      "KNIGHT THERAPEUTICS                      1\n",
      "PROGENICS PHARMACEUTICALS                1\n",
      "HERCON                                   1\n",
      "CUTISPHARMA                              1\n",
      "BIOLOGICAL E.                            1\n",
      "HANGZHOU MINSHENG BINJIANG PHARMA        1\n",
      "ALLERMED LABORATORIES                    1\n",
      "TECHNOMED                                1\n",
      "BLUE EARTH DIAGNOSTICS                   1\n",
      "MLV PHARMA                               1\n",
      "NIELSEN BIOSCIENCES                      1\n",
      "CROSSMEDIKA                              1\n",
      "ACCESS                                   1\n",
      "MCGUFF                                   1\n",
      "Name: mfr_sndr, Length: 504, dtype: int64\n"
     ]
    }
   ],
   "source": [
    "# Number of AE's reported in 2020Q1 by manufacturer\n",
    "print('Number of patients with adverse events by manufacturer reported in 2020Q1 from DEMO table:')\n",
    "print(df_demo.mfr_sndr.value_counts())  "
   ]
  },
  {
   "cell_type": "markdown",
   "metadata": {},
   "source": [
    "### STOPPED HERE - 1.5.2021 - SEND TO DATA SCIENCE GROUP FOR REVIEW"
   ]
  }
 ],
 "metadata": {
  "kernel_info": {
   "name": "python3-azureml"
  },
  "kernelspec": {
   "display_name": "Python 3",
   "language": "python",
   "name": "python3"
  },
  "language_info": {
   "codemirror_mode": {
    "name": "ipython",
    "version": 3
   },
   "file_extension": ".py",
   "mimetype": "text/x-python",
   "name": "python",
   "nbconvert_exporter": "python",
   "pygments_lexer": "ipython3",
   "version": "3.7.3"
  },
  "nteract": {
   "version": "nteract-front-end@1.0.0"
  }
 },
 "nbformat": 4,
 "nbformat_minor": 2
}
