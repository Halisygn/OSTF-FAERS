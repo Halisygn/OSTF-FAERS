{
 "cells": [
  {
   "cell_type": "markdown",
   "metadata": {},
   "source": [
    "# FAERS AE Multilabel Outcomes ML pipeline - Dask Distributed + Joblib"
   ]
  },
  {
   "cell_type": "markdown",
   "metadata": {},
   "source": [
    "## Methodology\n",
    "\n",
    "### Objective\n",
    "**Use FAERS data on drug safety to identify possible risk factors associated with patient mortality and other serious adverse events associated with approved used of a drug or drug class** \n",
    "\n",
    "### Data\n",
    "**_Outcome table_** \n",
    "1. Start with outcome_c table to define unit of analysis (primaryid)\n",
    "2. Reshape outcome_c to one row per primaryid\n",
    "3. Outcomes grouped into 3 categories: a. death, b. serious, c. other  \n",
    "4. Multiclass model target format: each outcome grp coded into separate columns\n",
    "\n",
    "**_Demo table_**\n",
    "1. Drop fields not used in model input to reduce table size (preferably before import to notebook)\n",
    "2. Check if demo table one row per primaryid (if NOT then need to reshape / clean - TBD)\n",
    "\n",
    "**_Model input and targets_**\n",
    "1. Merge clean demo table with reshaped multilabel outcome targets (rows: primaryid, cols: outcome grps)\n",
    "2. Inspect merged file to check for anomalies (outliers, bad data, ...)\n",
    "\n",
    "### Model\n",
    "**_Multilabel Classifier_**\n",
    "1. Since each primaryid has multiple outcomes coded in the outcome_c table, the ML model should predict the probability of each possible outcome.\n",
    "2. In scikit-learn lib most/all classifiers can predict multilabel outcomes by coding target outputs into array\n",
    "\n",
    "### Results\n",
    "TBD\n",
    "\n",
    "### Insights\n",
    "TBD"
   ]
  },
  {
   "cell_type": "code",
   "execution_count": 1,
   "metadata": {},
   "outputs": [
    {
     "data": {
      "text/html": [
       "<table style=\"border: 2px solid white;\">\n",
       "<tr>\n",
       "<td style=\"vertical-align: top; border: 0px solid white\">\n",
       "<h3 style=\"text-align: left;\">Client</h3>\n",
       "<ul style=\"text-align: left; list-style: none; margin: 0; padding: 0;\">\n",
       "  <li><b>Scheduler: </b>tcp://127.0.0.1:36785</li>\n",
       "  <li><b>Dashboard: </b><a href='http://127.0.0.1:8787/status' target='_blank'>http://127.0.0.1:8787/status</a></li>\n",
       "</ul>\n",
       "</td>\n",
       "<td style=\"vertical-align: top; border: 0px solid white\">\n",
       "<h3 style=\"text-align: left;\">Cluster</h3>\n",
       "<ul style=\"text-align: left; list-style:none; margin: 0; padding: 0;\">\n",
       "  <li><b>Workers: </b>4</li>\n",
       "  <li><b>Cores: </b>4</li>\n",
       "  <li><b>Memory: </b>8.00 GB</li>\n",
       "</ul>\n",
       "</td>\n",
       "</tr>\n",
       "</table>"
      ],
      "text/plain": [
       "<Client: 'tcp://127.0.0.1:36785' processes=4 threads=4, memory=8.00 GB>"
      ]
     },
     "execution_count": 1,
     "metadata": {},
     "output_type": "execute_result"
    }
   ],
   "source": [
    "# scale sklearn dask example setup - compare to multi thread below\n",
    "from dask.distributed import Client, progress\n",
    "client = Client(n_workers=4, threads_per_worker=1, memory_limit='2GB')\n",
    "client"
   ]
  },
  {
   "cell_type": "code",
   "execution_count": 2,
   "metadata": {},
   "outputs": [
    {
     "name": "stdout",
     "output_type": "stream",
     "text": [
      "The numpy version is 1.19.5.\n",
      "The pandas version is 1.2.0.\n",
      "The scikit-learn version is 0.24.0.\n",
      "The matplotlib version is 3.0.2.\n",
      "The seaborn version is 0.9.0.\n"
     ]
    }
   ],
   "source": [
    "#import libraries\n",
    "import numpy as np\n",
    "print('The numpy version is {}.'.format(np.__version__))\n",
    "import pandas as pd\n",
    "print('The pandas version is {}.'.format(pd.__version__))\n",
    "from pandas import read_csv, DataFrame\n",
    "#from random import random\n",
    "\n",
    "import sklearn\n",
    "print('The scikit-learn version is {}.'.format(sklearn.__version__))\n",
    "\n",
    "# preprocess + model selection + pipeline\n",
    "from sklearn.preprocessing import OneHotEncoder, StandardScaler  #, LabelBinarizer, MultiLabelBinarizer\n",
    "from sklearn.impute import SimpleImputer, KNNImputer, MissingIndicator\n",
    "from sklearn.model_selection import train_test_split  #, cross_val_score, GridSearchCV\n",
    "from sklearn.compose import ColumnTransformer\n",
    "from sklearn.pipeline import Pipeline  #, make_pipeline\n",
    "from sklearn.multioutput import MultiOutputClassifier\n",
    "\n",
    "# models supporting multilabel classification\n",
    "#from sklearn.tree import DecisionTreeClassifier, ExtraTreeClassifier\n",
    "#from sklearn.ensemble import ExtraTreesClassifier, RandomForestClassifier\n",
    "#from sklearn.neighbors import KNeighborsClassifier, RadiusNeighborsClassifier\n",
    "#from sklearn.neural_network import MLPClassifier\n",
    "from sklearn.linear_model import RidgeClassifierCV\n",
    "\n",
    "# metrics appropriate for multilabel classification\n",
    "from sklearn.metrics import jaccard_score, hamming_loss, accuracy_score, multilabel_confusion_matrix, ConfusionMatrixDisplay\n",
    "from sklearn.metrics import multilabel_confusion_matrix, ConfusionMatrixDisplay\n",
    "\n",
    "# feature importance\n",
    "from sklearn.inspection import permutation_importance, partial_dependence\n",
    "\n",
    "# visualization\n",
    "import matplotlib as mpl\n",
    "print('The matplotlib version is {}.'.format(mpl.__version__))\n",
    "from matplotlib import pyplot as plt\n",
    "from matplotlib.ticker import PercentFormatter\n",
    "from mpl_toolkits.mplot3d import Axes3D\n",
    "import seaborn as sns\n",
    "print('The seaborn version is {}.'.format(sns.__version__))\n",
    "sns.set()\n",
    "\n",
    "%matplotlib inline\n",
    "\n",
    "import warnings\n",
    "warnings.filterwarnings('ignore')"
   ]
  },
  {
   "cell_type": "code",
   "execution_count": 3,
   "metadata": {},
   "outputs": [
    {
     "name": "stdout",
     "output_type": "stream",
     "text": [
      "Index(['primaryid', 'i_f_code', 'rept_cod', 'sex', 'occp_cod', 'outc_cod__CA',\n",
      "       'outc_cod__DE', 'outc_cod__DS', 'outc_cod__HO', 'outc_cod__LT',\n",
      "       'outc_cod__OT', 'outc_cod__RI', 'n_outc', 'wt_lbs', 'age_yrs'],\n",
      "      dtype='object') \n",
      "\n",
      "   primaryid i_f_code rept_cod sex occp_cod  outc_cod__CA  outc_cod__DE  \\\n",
      "0  100046942        F      EXP   F       LW             0             0   \n",
      "1  100048206        F      EXP   F       MD             0             0   \n",
      "2  100048622        F      EXP   F       LW             0             0   \n",
      "3  100051352        F      EXP   F       LW             0             0   \n",
      "4  100051382        F      EXP   F       LW             0             0   \n",
      "\n",
      "   outc_cod__DS  outc_cod__HO  outc_cod__LT  outc_cod__OT  outc_cod__RI  \\\n",
      "0             0             0             0             1             0   \n",
      "1             0             1             0             1             0   \n",
      "2             0             0             0             1             0   \n",
      "3             0             0             0             1             0   \n",
      "4             0             0             0             1             0   \n",
      "\n",
      "   n_outc      wt_lbs  age_yrs  \n",
      "0       1  178.574463      NaN  \n",
      "1       2         NaN     68.0  \n",
      "2       1         NaN     57.0  \n",
      "3       1         NaN     51.0  \n",
      "4       1  182.983709     50.0   \n",
      "\n",
      "Total number of rows: 260,715\n",
      "\n",
      "Unique number of primaryids: 260,715\n"
     ]
    }
   ],
   "source": [
    "# read data into pandas to check\n",
    "infile = '../input/demo-outc_cod-multilabel-wt_lbs-age_yrs.csv'\n",
    "cols_in = ['primaryid', 'i_f_code', 'rept_cod', 'sex', 'occp_cod', 'outc_cod__CA', \n",
    "           'outc_cod__DE', 'outc_cod__DS', 'outc_cod__HO', 'outc_cod__LT', 'outc_cod__OT', \n",
    "           'outc_cod__RI', 'n_outc', 'wt_lbs', 'age_yrs']\n",
    "\n",
    "df = pd.read_csv(infile, usecols=cols_in)  # integrate dask dataframes later\n",
    "print(df.columns, '\\n')\n",
    "print(df.head(),'\\n')\n",
    "print(f'Total number of rows: {len(df):,}\\n')\n",
    "print(f'Unique number of primaryids: {df.primaryid.nunique():,}')"
   ]
  },
  {
   "cell_type": "markdown",
   "metadata": {},
   "source": [
    "## ML Pipeline"
   ]
  },
  {
   "cell_type": "code",
   "execution_count": null,
   "metadata": {},
   "outputs": [],
   "source": [
    "# load df into X, y arrays\n",
    "#print(len(df), df.columns, df.head())"
   ]
  },
  {
   "cell_type": "code",
   "execution_count": 4,
   "metadata": {},
   "outputs": [
    {
     "name": "stdout",
     "output_type": "stream",
     "text": [
      "y_arr\n",
      " (260715, 7) \n",
      " int64 \n",
      " [[0 0 0 0 0 1 0]\n",
      " [0 0 0 1 0 1 0]]\n",
      "X\n",
      " (260715, 7) \n",
      " i_f_code     object\n",
      "rept_cod     object\n",
      "sex          object\n",
      "occp_cod     object\n",
      "n_outc        int64\n",
      "wt_lbs      float64\n",
      "age_yrs     float64\n",
      "dtype: object \n",
      "   i_f_code rept_cod sex occp_cod  n_outc      wt_lbs  age_yrs\n",
      "0        F      EXP   F       LW       1  178.574463      NaN\n",
      "1        F      EXP   F       MD       2         NaN     68.0\n"
     ]
    }
   ],
   "source": [
    "# remove fields not in model to reduce memory load\n",
    "y_drop = ['primaryid', 'i_f_code', 'rept_cod', 'sex', 'occp_cod', 'n_outc', 'wt_lbs', 'age_yrs']\n",
    "          \n",
    "X_drop = ['primaryid', 'outc_cod__CA', 'outc_cod__DE', 'outc_cod__DS', 'outc_cod__HO', \n",
    "          'outc_cod__LT', 'outc_cod__OT', 'outc_cod__RI']\n",
    "          \n",
    "# convert target to ndarray for sklearn\n",
    "y = df.drop(y_drop, axis=1)\n",
    "y_arr = y.to_numpy()\n",
    "X = df.drop(X_drop, axis=1)\n",
    "\n",
    "print('y_arr\\n', y_arr.shape, '\\n', y_arr.dtype, '\\n', y_arr[:2])\n",
    "print('X\\n', X.shape, '\\n', X.dtypes, '\\n', X[:2])"
   ]
  },
  {
   "cell_type": "code",
   "execution_count": 5,
   "metadata": {},
   "outputs": [
    {
     "name": "stdout",
     "output_type": "stream",
     "text": [
      "X_train\n",
      " (182500, 7) \n",
      "        i_f_code rept_cod sex occp_cod  n_outc      wt_lbs  age_yrs\n",
      "4570          F      EXP   M       HP       2         NaN     70.0\n",
      "214019        I      EXP   M       HP       1  276.129031     21.0\n",
      "y_train\n",
      " (182500, 7) \n",
      " [[0 0 0 1 0 1 0]\n",
      " [0 0 0 1 0 0 0]]\n",
      "X_test\n",
      " (78215, 7) \n",
      "        i_f_code rept_cod sex occp_cod  n_outc     wt_lbs  age_yrs\n",
      "74111         I      EXP   F       HP       1        NaN     93.0\n",
      "193483        I      EXP   M       MD       1  176.36984     75.0\n",
      "y_test\n",
      " (78215, 7) \n",
      " [[0 0 0 1 0 0 0]\n",
      " [0 0 0 0 1 0 0]]\n"
     ]
    }
   ],
   "source": [
    "# Training, test set split (can extend later to multiple train-test splits in pipeline)\n",
    "X_train, X_test, y_train, y_test = train_test_split(X, y_arr, test_size = 0.3)\n",
    "\n",
    "print('X_train\\n', X_train.shape, '\\n', X_train[:2])\n",
    "print('y_train\\n', y_train.shape, '\\n', y_train[:2])\n",
    "print('X_test\\n', X_test.shape, '\\n', X_test[:2])\n",
    "print('y_test\\n', y_test.shape, '\\n', y_test[:2])"
   ]
  },
  {
   "cell_type": "code",
   "execution_count": 7,
   "metadata": {},
   "outputs": [
    {
     "name": "stdout",
     "output_type": "stream",
     "text": [
      "num_features\n",
      " ['n_outc', 'wt_lbs', 'age_yrs']\n",
      "cat_features\n",
      " ['i_f_code', 'rept_cod', 'sex', 'occp_cod']\n"
     ]
    }
   ],
   "source": [
    "# group features by type for categorical vs numeric transformers\n",
    "num_features = ['n_outc', 'wt_lbs', 'age_yrs']  \n",
    "cat_features = ['i_f_code', 'rept_cod', 'sex', 'occp_cod']  \n",
    "\n",
    "print('num_features\\n', num_features)\n",
    "print('cat_features\\n', cat_features)"
   ]
  },
  {
   "cell_type": "code",
   "execution_count": 8,
   "metadata": {},
   "outputs": [],
   "source": [
    "# create transformers for model input features by type\n",
    "num_transformer = Pipeline(steps=[\n",
    "    ('imputer', SimpleImputer(strategy='median')),\n",
    "    ('scaler', StandardScaler())])\n",
    "cat_transformer = Pipeline(steps=[\n",
    "    ('1_hot', OneHotEncoder(handle_unknown='ignore'))])\n",
    "\n",
    "#columnTransformer = ColumnTransformer([('encoder', OneHotEncoder(), [0])], remainder='passthrough')"
   ]
  },
  {
   "cell_type": "code",
   "execution_count": 9,
   "metadata": {},
   "outputs": [],
   "source": [
    "# combine transformers into preprocessing step\n",
    "preprocessor = ColumnTransformer(transformers=[\n",
    "    ('num', num_transformer, num_features),\n",
    "    ('cat', cat_transformer, cat_features)], remainder='passthrough') # *** MUST INCL REMAINDER=PASSTHROUGH OR ERR!\n",
    "\n",
    "#print(dir(preprocessor._transformers.__dir__.__name__))  #, '\\n', preprocessor.named_transformers_)"
   ]
  },
  {
   "cell_type": "code",
   "execution_count": 10,
   "metadata": {},
   "outputs": [],
   "source": [
    "# multioutput classifier using pipeline\n",
    "ridgecv = RidgeClassifierCV()\n",
    "ml_ridgecv = MultiOutputClassifier(ridgecv)  #, njobs=-1)\n",
    "\n",
    "ml_ridgecv_pl = Pipeline(steps=[('preprocessor', preprocessor),\n",
    "                        ('classifier', ml_ridgecv)])"
   ]
  },
  {
   "cell_type": "code",
   "execution_count": 11,
   "metadata": {
    "scrolled": false
   },
   "outputs": [],
   "source": [
    "'''joblib as dask parallel backend (simple multicore setup above - 1 worker per CPU core,\n",
    "1 process (thread) per worker) - no special programming needed''' \n",
    "\n",
    "import joblib\n",
    "\n",
    "with joblib.parallel_backend('dask'):\n",
    "    ml_ridgecv_pl.fit(X_train, y_train)"
   ]
  },
  {
   "cell_type": "code",
   "execution_count": 15,
   "metadata": {},
   "outputs": [
    {
     "name": "stdout",
     "output_type": "stream",
     "text": [
      "accuracy:  0.5247331074602058\n",
      "hamming loss:  0.11820531319348682\n",
      "jaccard score:  0.4940388238697219\n"
     ]
    }
   ],
   "source": [
    "# multilabel test set prediction Y ~ [samples, outcomes] matrix\n",
    "y_pred = ml_ridgecv_pl.predict(X_test) \n",
    "\n",
    "# accuracy, hamming loss and jaccard score for mlabel\n",
    "print('accuracy: ', accuracy_score(y_test, y_pred))\n",
    "print('hamming loss: ', hamming_loss(y_test, y_pred))\n",
    "print('jaccard score: ', jaccard_score(y_test, y_pred, average='micro'))"
   ]
  },
  {
   "cell_type": "code",
   "execution_count": 26,
   "metadata": {},
   "outputs": [
    {
     "name": "stdout",
     "output_type": "stream",
     "text": [
      "(7, 2, 2) \n",
      " [[[77733     0]\n",
      "  [  482     0]]\n",
      "\n",
      " [[65568   669]\n",
      "  [10947  1031]]\n",
      "\n",
      " [[76134     0]\n",
      "  [ 2081     0]]\n",
      "\n",
      " [[41958  4385]\n",
      "  [17064 14808]]\n",
      "\n",
      " [[74398     3]\n",
      "  [ 3633   181]]\n",
      "\n",
      " [[ 5683 22014]\n",
      "  [ 3345 47173]]\n",
      "\n",
      " [[78120     0]\n",
      "  [   95     0]]]\n"
     ]
    }
   ],
   "source": [
    "# generate ml cm\n",
    "multilabel_cm = multilabel_confusion_matrix(y_test, y_pred)\n",
    "print(multilabel_cm.shape, '\\n', multilabel_cm)"
   ]
  },
  {
   "cell_type": "code",
   "execution_count": 33,
   "metadata": {},
   "outputs": [
    {
     "name": "stdout",
     "output_type": "stream",
     "text": [
      "(7, 4) \n",
      " [[77733     0   482     0]\n",
      " [65568   669 10947  1031]\n",
      " [76134     0  2081     0]\n",
      " [41958  4385 17064 14808]\n",
      " [74398     3  3633   181]\n",
      " [ 5683 22014  3345 47173]\n",
      " [78120     0    95     0]]\n",
      "(7,) \n",
      " [78215 78215 78215 78215 78215 78215 78215]\n"
     ]
    }
   ],
   "source": [
    "# normalize each 2x2 cm\n",
    "\n",
    "# step 1 - need sum of each 2x2 cm for each outcome\n",
    "\n",
    "# reshape from 7x2x2 to 7x4\n",
    "#cm_7x4 = multilabel_cm.reshape(7,4)\n",
    "#print(cm_7x4.shape, '\\n', cm_7x4)\n",
    "\n",
    "#multilabel_cm_sum = np.sum(multilabel_cm.reshape(7,4), axis=1)  #confusion_matrix(y_test, y_pred)\n",
    "#print(multilabel_cm_sum.shape, '\\n', multilabel_cm_sum)"
   ]
  },
  {
   "cell_type": "code",
   "execution_count": 46,
   "metadata": {},
   "outputs": [
    {
     "name": "stdout",
     "output_type": "stream",
     "text": [
      "78215\n"
     ]
    }
   ],
   "source": [
    "print(len(y_test))"
   ]
  },
  {
   "cell_type": "code",
   "execution_count": 47,
   "metadata": {},
   "outputs": [
    {
     "name": "stdout",
     "output_type": "stream",
     "text": [
      "(7, 2, 2) \n",
      " [[[9.93837499e-01 0.00000000e+00]\n",
      "  [6.16250080e-03 0.00000000e+00]]\n",
      "\n",
      " [[8.38304673e-01 8.55334654e-03]\n",
      "  [1.39960366e-01 1.31816148e-02]]\n",
      "\n",
      " [[9.73393850e-01 0.00000000e+00]\n",
      "  [2.66061497e-02 0.00000000e+00]]\n",
      "\n",
      " [[5.36444416e-01 5.60634149e-02]\n",
      "  [2.18167871e-01 1.89324298e-01]]\n",
      "\n",
      " [[9.51198619e-01 3.83558141e-05]\n",
      "  [4.64488909e-02 2.31413412e-03]]\n",
      "\n",
      " [[7.26586972e-02 2.81454964e-01]\n",
      "  [4.27667327e-02 6.03119606e-01]]\n",
      "\n",
      " [[9.98785399e-01 0.00000000e+00]\n",
      "  [1.21460078e-03 0.00000000e+00]]]\n"
     ]
    }
   ],
   "source": [
    "# normalize cm matrix by dividing each element of cm by total num of samples (so much for the linalg above :-)\n",
    "multilabel_cm_norm = np.divide(multilabel_cm, len(y_test))  #78215)\n",
    "print(multilabel_cm_norm.shape, '\\n', multilabel_cm_norm)"
   ]
  },
  {
   "cell_type": "code",
   "execution_count": 49,
   "metadata": {},
   "outputs": [
    {
     "data": {
      "image/png": "[encoded data removed]",
      "text/plain": [
       "<Figure size 864x504 with 9 Axes>"
      ]
     },
     "metadata": {
      "needs_background": "light"
     },
     "output_type": "display_data"
    }
   ],
   "source": [
    "# multilabel confusion matrix - from stack overflow\n",
    "\n",
    "# 1. create output labels\n",
    "labels = ['outc_cod__CA', 'outc_cod__DE', 'outc_cod__DS', 'outc_cod__HO', 'outc_cod__LT', \n",
    "          'outc_cod__OT', 'outc_cod__RI']\n",
    "\n",
    "# 2. print cm func using pd, plt, sns libs\n",
    "def print_confusion_matrix(confusion_matrix, axes, class_label, class_names, fontsize=14):\n",
    "    df_cm = pd.DataFrame(confusion_matrix, index=class_names, columns=class_names)  #,)\n",
    "    try:\n",
    "        heatmap = sns.heatmap(df_cm, annot=True, fmt=\"d\", cbar=False, ax=axes)\n",
    "    except ValueError:\n",
    "        raise ValueError(\"Confusion matrix values must be integers.\")\n",
    "    heatmap.yaxis.set_ticklabels(heatmap.yaxis.get_ticklabels(), rotation=0, ha='right', \n",
    "                                 fontsize=fontsize)\n",
    "    heatmap.xaxis.set_ticklabels(heatmap.yaxis.get_ticklabels(), rotation=45, ha='right', \n",
    "                                 fontsize=fontsize)\n",
    "    axes.set_xlabel('True label')\n",
    "    axes.set_ylabel('Predicted label')\n",
    "    axes.set_title(\"Confusion matrix for class - \" + class_label)\n",
    "\n",
    "\n",
    "# plot grid of cm's - one per output - raw\n",
    "fig, ax = plt.subplots(3, 3, figsize=(12, 7))\n",
    "\n",
    "for axes, cfs_matrix, label in zip(ax.flatten(), multilabel_cm, labels):\n",
    "    print_confusion_matrix(cfs_matrix, axes, label, [\"N\", \"Y\"])\n",
    "\n",
    "fig.tight_layout()\n",
    "plt.show()"
   ]
  }
 ],
 "metadata": {
  "kernel_info": {
   "name": "python3-azureml"
  },
  "kernelspec": {
   "display_name": "Python 3",
   "language": "python",
   "name": "python3"
  },
  "language_info": {
   "codemirror_mode": {
    "name": "ipython",
    "version": 3
   },
   "file_extension": ".py",
   "mimetype": "text/x-python",
   "name": "python",
   "nbconvert_exporter": "python",
   "pygments_lexer": "ipython3",
   "version": "3.7.3"
  },
  "nteract": {
   "version": "nteract-front-end@1.0.0"
  }
 },
 "nbformat": 4,
 "nbformat_minor": 2
}
